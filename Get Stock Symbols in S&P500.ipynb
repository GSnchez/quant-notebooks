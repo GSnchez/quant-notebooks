{
 "cells": [
  {
   "cell_type": "markdown",
   "id": "informal-server",
   "metadata": {},
   "source": [
    "## Get Stock Symbols from S&P 500"
   ]
  },
  {
   "cell_type": "code",
   "execution_count": 48,
   "id": "painted-vietnamese",
   "metadata": {},
   "outputs": [],
   "source": [
    "import yfinance as yf\n",
    "import pandas as pd\n",
    "import datetime as dt\n",
    "import json"
   ]
  },
  {
   "cell_type": "code",
   "execution_count": 49,
   "id": "impressive-rotation",
   "metadata": {},
   "outputs": [],
   "source": [
    "data = pd.read_html(\n",
    "    'https://en.wikipedia.org/wiki/List_of_S%26P_500_companies')"
   ]
  },
  {
   "cell_type": "code",
   "execution_count": 50,
   "id": "american-simpson",
   "metadata": {
    "scrolled": false
   },
   "outputs": [
    {
     "data": {
      "text/html": [
       "<div>\n",
       "<style scoped>\n",
       "    .dataframe tbody tr th:only-of-type {\n",
       "        vertical-align: middle;\n",
       "    }\n",
       "\n",
       "    .dataframe tbody tr th {\n",
       "        vertical-align: top;\n",
       "    }\n",
       "\n",
       "    .dataframe thead th {\n",
       "        text-align: right;\n",
       "    }\n",
       "</style>\n",
       "<table border=\"1\" class=\"dataframe\">\n",
       "  <thead>\n",
       "    <tr style=\"text-align: right;\">\n",
       "      <th></th>\n",
       "      <th>Symbol</th>\n",
       "      <th>Security</th>\n",
       "      <th>GICS Sector</th>\n",
       "      <th>GICS Sub-Industry</th>\n",
       "      <th>Date first added</th>\n",
       "    </tr>\n",
       "  </thead>\n",
       "  <tbody>\n",
       "    <tr>\n",
       "      <th>0</th>\n",
       "      <td>MMM</td>\n",
       "      <td>3M Company</td>\n",
       "      <td>Industrials</td>\n",
       "      <td>Industrial Conglomerates</td>\n",
       "      <td>1976-08-09</td>\n",
       "    </tr>\n",
       "    <tr>\n",
       "      <th>1</th>\n",
       "      <td>ABT</td>\n",
       "      <td>Abbott Laboratories</td>\n",
       "      <td>Health Care</td>\n",
       "      <td>Health Care Equipment</td>\n",
       "      <td>1964-03-31</td>\n",
       "    </tr>\n",
       "    <tr>\n",
       "      <th>2</th>\n",
       "      <td>ABBV</td>\n",
       "      <td>AbbVie Inc.</td>\n",
       "      <td>Health Care</td>\n",
       "      <td>Pharmaceuticals</td>\n",
       "      <td>2012-12-31</td>\n",
       "    </tr>\n",
       "    <tr>\n",
       "      <th>3</th>\n",
       "      <td>ABMD</td>\n",
       "      <td>Abiomed</td>\n",
       "      <td>Health Care</td>\n",
       "      <td>Health Care Equipment</td>\n",
       "      <td>2018-05-31</td>\n",
       "    </tr>\n",
       "    <tr>\n",
       "      <th>4</th>\n",
       "      <td>ACN</td>\n",
       "      <td>Accenture</td>\n",
       "      <td>Information Technology</td>\n",
       "      <td>IT Consulting &amp; Other Services</td>\n",
       "      <td>2011-07-06</td>\n",
       "    </tr>\n",
       "    <tr>\n",
       "      <th>5</th>\n",
       "      <td>ATVI</td>\n",
       "      <td>Activision Blizzard</td>\n",
       "      <td>Communication Services</td>\n",
       "      <td>Interactive Home Entertainment</td>\n",
       "      <td>2015-08-31</td>\n",
       "    </tr>\n",
       "    <tr>\n",
       "      <th>6</th>\n",
       "      <td>ADBE</td>\n",
       "      <td>Adobe Inc.</td>\n",
       "      <td>Information Technology</td>\n",
       "      <td>Application Software</td>\n",
       "      <td>1997-05-05</td>\n",
       "    </tr>\n",
       "    <tr>\n",
       "      <th>7</th>\n",
       "      <td>AMD</td>\n",
       "      <td>Advanced Micro Devices</td>\n",
       "      <td>Information Technology</td>\n",
       "      <td>Semiconductors</td>\n",
       "      <td>2017-03-20</td>\n",
       "    </tr>\n",
       "    <tr>\n",
       "      <th>8</th>\n",
       "      <td>AAP</td>\n",
       "      <td>Advance Auto Parts</td>\n",
       "      <td>Consumer Discretionary</td>\n",
       "      <td>Automotive Retail</td>\n",
       "      <td>2015-07-09</td>\n",
       "    </tr>\n",
       "    <tr>\n",
       "      <th>9</th>\n",
       "      <td>AES</td>\n",
       "      <td>AES Corp</td>\n",
       "      <td>Utilities</td>\n",
       "      <td>Independent Power Producers &amp; Energy Traders</td>\n",
       "      <td>1998-10-02</td>\n",
       "    </tr>\n",
       "  </tbody>\n",
       "</table>\n",
       "</div>"
      ],
      "text/plain": [
       "  Symbol                Security             GICS Sector  \\\n",
       "0    MMM              3M Company             Industrials   \n",
       "1    ABT     Abbott Laboratories             Health Care   \n",
       "2   ABBV             AbbVie Inc.             Health Care   \n",
       "3   ABMD                 Abiomed             Health Care   \n",
       "4    ACN               Accenture  Information Technology   \n",
       "5   ATVI     Activision Blizzard  Communication Services   \n",
       "6   ADBE              Adobe Inc.  Information Technology   \n",
       "7    AMD  Advanced Micro Devices  Information Technology   \n",
       "8    AAP      Advance Auto Parts  Consumer Discretionary   \n",
       "9    AES                AES Corp               Utilities   \n",
       "\n",
       "                              GICS Sub-Industry Date first added  \n",
       "0                      Industrial Conglomerates       1976-08-09  \n",
       "1                         Health Care Equipment       1964-03-31  \n",
       "2                               Pharmaceuticals       2012-12-31  \n",
       "3                         Health Care Equipment       2018-05-31  \n",
       "4                IT Consulting & Other Services       2011-07-06  \n",
       "5                Interactive Home Entertainment       2015-08-31  \n",
       "6                          Application Software       1997-05-05  \n",
       "7                                Semiconductors       2017-03-20  \n",
       "8                             Automotive Retail       2015-07-09  \n",
       "9  Independent Power Producers & Energy Traders       1998-10-02  "
      ]
     },
     "execution_count": 50,
     "metadata": {},
     "output_type": "execute_result"
    }
   ],
   "source": [
    "sp500 = data[0]\n",
    "sp500 = sp500[[\n",
    "    'Symbol', 'Security', 'GICS Sector', 'GICS Sub-Industry',\n",
    "    'Date first added'\n",
    "]]\n",
    "sp500.head(10)"
   ]
  },
  {
   "cell_type": "code",
   "execution_count": 51,
   "id": "equipped-vocabulary",
   "metadata": {},
   "outputs": [],
   "source": [
    "sp500_symbols = sp500['Symbol'].values.tolist()\n",
    "sp500_sectors = list(set(sp500['GICS Sector'].values.tolist()))\n",
    "\n",
    "sp500_symbols_new = []\n",
    "\n",
    "for symbol in sp500_symbols:\n",
    "    if '.' in symbol:\n",
    "        sp500_symbols_new.append(symbol.replace('.', '-'))\n",
    "    else:\n",
    "        sp500_symbols_new.append(symbol)\n",
    "\n",
    "sp500_symbols = sp500_symbols_new"
   ]
  },
  {
   "cell_type": "markdown",
   "id": "color-craps",
   "metadata": {},
   "source": [
    "## Retrieve Dividend Data"
   ]
  },
  {
   "cell_type": "code",
   "execution_count": null,
   "id": "institutional-headquarters",
   "metadata": {},
   "outputs": [],
   "source": [
    "div_data = {}\n",
    "year_threshold = 40\n",
    "\n",
    "#sp500_symbols = ['MMM']\n",
    "\n",
    "for symbol in sp500_symbols:\n",
    "    prices = yf.Ticker(symbol).history(period='max')\n",
    "    dividends = prices[prices['Dividends'] > 0]\n",
    "    if len(dividends) > 0:\n",
    "        first_year = dividends.index[0].year\n",
    "    else:\n",
    "        continue\n",
    "    last_year = dt.datetime.today().year\n",
    "    annual_div = {}\n",
    "\n",
    "    # get annual dividend sum from first year it paid out div\n",
    "    for year in range(first_year, last_year):\n",
    "        div_sum = dividends[dividends.index.year == year]['Dividends'].sum()\n",
    "        if div_sum == 0:  # dividend discontinued\n",
    "            break\n",
    "        annual_div[year] = div_sum\n",
    "    # min # years\n",
    "    # div_data[symbol][0] = annual dividend sum\n",
    "    # div_data[symbol][1] = # years dividends were paid out\n",
    "\n",
    "    additionals = {}\n",
    "    additionals['consecutive_yrs'] = len(annual_div)\n",
    "    if len(annual_div) >= year_threshold:\n",
    "        div_data[symbol] = []\n",
    "        div_data[symbol].append(annual_div)\n",
    "        div_data[symbol].append(additionals)"
   ]
  },
  {
   "cell_type": "code",
   "execution_count": null,
   "id": "divine-heritage",
   "metadata": {
    "scrolled": true
   },
   "outputs": [],
   "source": [
    "div_data"
   ]
  },
  {
   "cell_type": "markdown",
   "id": "associate-strengthening",
   "metadata": {},
   "source": [
    "## Calculate 5Y, 10Y, 25Y Average Dividend Growth Rate"
   ]
  },
  {
   "cell_type": "code",
   "execution_count": null,
   "id": "radio-enclosure",
   "metadata": {},
   "outputs": [],
   "source": [
    "last_year = dt.datetime.today().year - 1\n",
    "five_year = last_year - 5\n",
    "ten_year = last_year - 10\n",
    "twenty_five_year = last_year - 25"
   ]
  },
  {
   "cell_type": "code",
   "execution_count": null,
   "id": "banned-passage",
   "metadata": {
    "code_folding": [],
    "run_control": {
     "marked": false
    }
   },
   "outputs": [],
   "source": [
    "for symbol in sp500_symbols:\n",
    "    rate_change = []\n",
    "    for year in range(five_year, last_year + 1):\n",
    "        rate_change.append(100 * (div_data[symbol][0][year] - div_data[symbol][0][year-1])/div_data[symbol][0][year-1])\n",
    "    five_year_growth_avg = sum(rate_change) / len(rate_change)\n",
    "\n",
    "    rate_change = []\n",
    "    for year in range(ten_year, last_year + 1):\n",
    "        rate_change.append(100 * (div_data[symbol][0][year] - div_data[symbol][0][year-1])/div_data[symbol][0][year-1])\n",
    "    ten_year_growth_avg = sum(rate_change) / len(rate_change)\n",
    "\n",
    "    rate_change = []\n",
    "    for year in range(twenty_five_year, last_year + 1):\n",
    "        rate_change.append(100 * (div_data[symbol][0][year] - div_data[symbol][0][year-1])/div_data[symbol][0][year-1])\n",
    "    twenty_five_year_growth_avg = sum(rate_change) / len(rate_change)\n",
    "\n",
    "    div_data[symbol][1]['5yrsGrowthAvg'] = five_year_growth_avg\n",
    "    div_data[symbol][1]['10yrsGrowthAvg'] = ten_year_growth_avg\n",
    "    div_data[symbol][1]['25yrsGrowthAvg'] = twenty_five_year_growth_avg"
   ]
  },
  {
   "cell_type": "code",
   "execution_count": null,
   "id": "round-fetish",
   "metadata": {},
   "outputs": [],
   "source": [
    "div_data"
   ]
  },
  {
   "cell_type": "markdown",
   "id": "starting-taxation",
   "metadata": {},
   "source": [
    "## Export & Save Dividend Data to JSON"
   ]
  },
  {
   "cell_type": "code",
   "execution_count": null,
   "id": "powerful-fifty",
   "metadata": {},
   "outputs": [],
   "source": [
    "with open('data/historical_div_sp500.json', 'w') as fp:\n",
    "    json.dump(div_data, fp)"
   ]
  }
 ],
 "metadata": {
  "kernelspec": {
   "display_name": "Python 3",
   "language": "python",
   "name": "python3"
  },
  "language_info": {
   "codemirror_mode": {
    "name": "ipython",
    "version": 3
   },
   "file_extension": ".py",
   "mimetype": "text/x-python",
   "name": "python",
   "nbconvert_exporter": "python",
   "pygments_lexer": "ipython3",
   "version": "3.8.5"
  },
  "toc": {
   "base_numbering": 1,
   "nav_menu": {},
   "number_sections": true,
   "sideBar": true,
   "skip_h1_title": false,
   "title_cell": "Table of Contents",
   "title_sidebar": "Contents",
   "toc_cell": false,
   "toc_position": {},
   "toc_section_display": true,
   "toc_window_display": true
  },
  "varInspector": {
   "cols": {
    "lenName": 16,
    "lenType": 16,
    "lenVar": 40
   },
   "kernels_config": {
    "python": {
     "delete_cmd_postfix": "",
     "delete_cmd_prefix": "del ",
     "library": "var_list.py",
     "varRefreshCmd": "print(var_dic_list())"
    },
    "r": {
     "delete_cmd_postfix": ") ",
     "delete_cmd_prefix": "rm(",
     "library": "var_list.r",
     "varRefreshCmd": "cat(var_dic_list()) "
    }
   },
   "types_to_exclude": [
    "module",
    "function",
    "builtin_function_or_method",
    "instance",
    "_Feature"
   ],
   "window_display": false
  }
 },
 "nbformat": 4,
 "nbformat_minor": 5
}
