{
 "cells": [
  {
   "cell_type": "markdown",
   "metadata": {},
   "source": [
    "# Sector Momentum Analysis"
   ]
  },
  {
   "cell_type": "code",
   "execution_count": 1,
   "metadata": {},
   "outputs": [],
   "source": [
    "import pandas as pd"
   ]
  },
  {
   "cell_type": "markdown",
   "metadata": {},
   "source": [
    "## Extract sector table data from etfdb.com"
   ]
  },
  {
   "cell_type": "code",
   "execution_count": 2,
   "metadata": {},
   "outputs": [],
   "source": [
    "url = 'https://etfdb.com/etfs/sector/'\n",
    "df = pd.read_html(url)[0].drop([11], axis=0)"
   ]
  },
  {
   "cell_type": "code",
   "execution_count": 3,
   "metadata": {},
   "outputs": [
    {
     "data": {
      "text/plain": [
       "['energy',\n",
       " 'consumer-discretionaries',\n",
       " 'financials',\n",
       " 'healthcare',\n",
       " 'industrials',\n",
       " 'technology',\n",
       " 'materials',\n",
       " 'consumer-staples',\n",
       " 'telecom',\n",
       " 'utilities',\n",
       " 'real-estate']"
      ]
     },
     "execution_count": 3,
     "metadata": {},
     "output_type": "execute_result"
    }
   ],
   "source": [
    "sectors = list(df['Sector'])\n",
    "sectors = [x.lower() for x in sectors]\n",
    "sectors = [x.replace(' ','-') for x in sectors]\n",
    "sectors = [x.replace('discretionary', 'discretionaries') for x in sectors]\n",
    "sectors\n"
   ]
  },
  {
   "cell_type": "markdown",
   "metadata": {},
   "source": [
    "## Retrieve Top ETFs from Each Sector"
   ]
  },
  {
   "cell_type": "code",
   "execution_count": 10,
   "metadata": {},
   "outputs": [
    {
     "data": {
      "text/plain": [
       "{'energy': {'symbol': 'XLE',\n",
       "  'name': 'Energy Select Sector SPDR Fund',\n",
       "  'industry': 'Oil & Gas Exploration & Production',\n",
       "  'aum': '$22,101.90'},\n",
       " 'consumer-discretionaries': {'symbol': 'XLY',\n",
       "  'name': 'Consumer Discretionary Select Sector SPDR Fund',\n",
       "  'industry': 'Broad Consumer Discretionary',\n",
       "  'aum': '$19,220.10'},\n",
       " 'financials': {'symbol': 'XLF',\n",
       "  'name': 'Financial Select Sector SPDR Fund',\n",
       "  'industry': 'Broad Financials',\n",
       "  'aum': '$36,592.80'},\n",
       " 'healthcare': {'symbol': 'XLV',\n",
       "  'name': 'Health Care Select Sector SPDR Fund',\n",
       "  'industry': 'Broad Healthcare',\n",
       "  'aum': '$24,833.30'},\n",
       " 'industrials': {'symbol': 'XLI',\n",
       "  'name': 'Industrial Select Sector SPDR Fund',\n",
       "  'industry': 'Broad Industrials',\n",
       "  'aum': '$19,135.00'},\n",
       " 'technology': {'symbol': 'QQQ',\n",
       "  'name': 'Invesco QQQ',\n",
       "  'industry': 'Broad Technology',\n",
       "  'aum': '$155,470.00'},\n",
       " 'materials': {'symbol': 'GDX',\n",
       "  'name': 'VanEck Vectors Gold Miners ETF',\n",
       "  'industry': 'Gold Miners',\n",
       "  'aum': '$14,080.20'},\n",
       " 'consumer-staples': {'symbol': 'XLP',\n",
       "  'name': 'Consumer Staples Select Sector SPDR Fund',\n",
       "  'industry': 'Broad Consumer Staples',\n",
       "  'aum': '$11,140.90'},\n",
       " 'telecom': {'symbol': 'VOX',\n",
       "  'name': 'Vanguard Communication Services ETF',\n",
       "  'industry': 'Broad Telecom',\n",
       "  'aum': '$3,707.86'},\n",
       " 'utilities': {'symbol': 'XLU',\n",
       "  'name': 'Utilities Select Sector SPDR Fund',\n",
       "  'industry': 'Broad Utilities',\n",
       "  'aum': '$11,788.60'},\n",
       " 'real-estate': {'symbol': 'VNQ',\n",
       "  'name': 'Vanguard Real Estate Index Fund',\n",
       "  'industry': 'Broad Real Estate',\n",
       "  'aum': '$35,501.50'}}"
      ]
     },
     "execution_count": 10,
     "metadata": {},
     "output_type": "execute_result"
    }
   ],
   "source": [
    "top_etfs = {}\n",
    "for s in sectors:\n",
    "    sector_url = url + s + '/'\n",
    "    sector_data = pd.read_html(sector_url)[0]\n",
    "    etf_symbol = sector_data.loc[0,'Symbol']\n",
    "    etf_name = sector_data.loc[0,'ETF Name']\n",
    "    etf_industry = sector_data.loc[0, 'Industry']\n",
    "    etf_aum = sector_data.loc[0, 'Total Assets ($MM)']\n",
    "    top_etfs[s] = {}\n",
    "    top_etfs[s]['symbol'] = etf_symbol\n",
    "    top_etfs[s]['name'] = etf_name\n",
    "    top_etfs[s]['industry'] = etf_industry\n",
    "    top_etfs[s]['aum'] = etf_aum\n",
    "    \n",
    "top_etfs"
   ]
  },
  {
   "cell_type": "code",
   "execution_count": 17,
   "metadata": {},
   "outputs": [
    {
     "data": {
      "text/html": [
       "<div>\n",
       "<style scoped>\n",
       "    .dataframe tbody tr th:only-of-type {\n",
       "        vertical-align: middle;\n",
       "    }\n",
       "\n",
       "    .dataframe tbody tr th {\n",
       "        vertical-align: top;\n",
       "    }\n",
       "\n",
       "    .dataframe thead th {\n",
       "        text-align: right;\n",
       "    }\n",
       "</style>\n",
       "<table border=\"1\" class=\"dataframe\">\n",
       "  <thead>\n",
       "    <tr style=\"text-align: right;\">\n",
       "      <th></th>\n",
       "      <th>Symbol</th>\n",
       "      <th>Sector</th>\n",
       "      <th>Industry</th>\n",
       "    </tr>\n",
       "  </thead>\n",
       "  <tbody>\n",
       "    <tr>\n",
       "      <th>0</th>\n",
       "      <td>XLE</td>\n",
       "      <td>energy</td>\n",
       "      <td>Oil &amp; Gas Exploration &amp; Production</td>\n",
       "    </tr>\n",
       "    <tr>\n",
       "      <th>1</th>\n",
       "      <td>XLY</td>\n",
       "      <td>consumer-discretionaries</td>\n",
       "      <td>Broad Consumer Discretionary</td>\n",
       "    </tr>\n",
       "    <tr>\n",
       "      <th>2</th>\n",
       "      <td>XLF</td>\n",
       "      <td>financials</td>\n",
       "      <td>Broad Financials</td>\n",
       "    </tr>\n",
       "    <tr>\n",
       "      <th>3</th>\n",
       "      <td>XLV</td>\n",
       "      <td>healthcare</td>\n",
       "      <td>Broad Healthcare</td>\n",
       "    </tr>\n",
       "    <tr>\n",
       "      <th>4</th>\n",
       "      <td>XLI</td>\n",
       "      <td>industrials</td>\n",
       "      <td>Broad Industrials</td>\n",
       "    </tr>\n",
       "    <tr>\n",
       "      <th>5</th>\n",
       "      <td>QQQ</td>\n",
       "      <td>technology</td>\n",
       "      <td>Broad Technology</td>\n",
       "    </tr>\n",
       "    <tr>\n",
       "      <th>6</th>\n",
       "      <td>GDX</td>\n",
       "      <td>materials</td>\n",
       "      <td>Gold Miners</td>\n",
       "    </tr>\n",
       "    <tr>\n",
       "      <th>7</th>\n",
       "      <td>XLP</td>\n",
       "      <td>consumer-staples</td>\n",
       "      <td>Broad Consumer Staples</td>\n",
       "    </tr>\n",
       "    <tr>\n",
       "      <th>8</th>\n",
       "      <td>VOX</td>\n",
       "      <td>telecom</td>\n",
       "      <td>Broad Telecom</td>\n",
       "    </tr>\n",
       "    <tr>\n",
       "      <th>9</th>\n",
       "      <td>XLU</td>\n",
       "      <td>utilities</td>\n",
       "      <td>Broad Utilities</td>\n",
       "    </tr>\n",
       "    <tr>\n",
       "      <th>10</th>\n",
       "      <td>VNQ</td>\n",
       "      <td>real-estate</td>\n",
       "      <td>Broad Real Estate</td>\n",
       "    </tr>\n",
       "  </tbody>\n",
       "</table>\n",
       "</div>"
      ],
      "text/plain": [
       "   Symbol                    Sector                            Industry\n",
       "0     XLE                    energy  Oil & Gas Exploration & Production\n",
       "1     XLY  consumer-discretionaries        Broad Consumer Discretionary\n",
       "2     XLF                financials                    Broad Financials\n",
       "3     XLV                healthcare                    Broad Healthcare\n",
       "4     XLI               industrials                   Broad Industrials\n",
       "5     QQQ                technology                    Broad Technology\n",
       "6     GDX                 materials                         Gold Miners\n",
       "7     XLP          consumer-staples              Broad Consumer Staples\n",
       "8     VOX                   telecom                       Broad Telecom\n",
       "9     XLU                 utilities                     Broad Utilities\n",
       "10    VNQ               real-estate                   Broad Real Estate"
      ]
     },
     "execution_count": 17,
     "metadata": {},
     "output_type": "execute_result"
    }
   ],
   "source": [
    "convert_df = {'Symbol': [], 'Sector':[], 'Industry': []}\n",
    "for etf in top_etfs.keys():\n",
    "    convert_df['Symbol'].append(top_etfs[etf]['symbol'])\n",
    "    convert_df['Sector'].append(etf)\n",
    "    convert_df['Industry'].append(top_etfs[etf]['industry'])\n",
    "    #convert_df['Momentum'].append(top_etfs[etf]['symbol'])\n",
    "\n",
    "df = pd.DataFrame(convert_df)\n",
    "df"
   ]
  },
  {
   "cell_type": "code",
   "execution_count": null,
   "metadata": {},
   "outputs": [],
   "source": []
  }
 ],
 "metadata": {
  "kernelspec": {
   "display_name": "Python 3",
   "language": "python",
   "name": "python3"
  },
  "language_info": {
   "codemirror_mode": {
    "name": "ipython",
    "version": 3
   },
   "file_extension": ".py",
   "mimetype": "text/x-python",
   "name": "python",
   "nbconvert_exporter": "python",
   "pygments_lexer": "ipython3",
   "version": "3.8.5"
  },
  "toc": {
   "base_numbering": 1,
   "nav_menu": {},
   "number_sections": true,
   "sideBar": true,
   "skip_h1_title": true,
   "title_cell": "Table of Contents",
   "title_sidebar": "Contents",
   "toc_cell": false,
   "toc_position": {},
   "toc_section_display": true,
   "toc_window_display": true
  },
  "varInspector": {
   "cols": {
    "lenName": 16,
    "lenType": 16,
    "lenVar": 40
   },
   "kernels_config": {
    "python": {
     "delete_cmd_postfix": "",
     "delete_cmd_prefix": "del ",
     "library": "var_list.py",
     "varRefreshCmd": "print(var_dic_list())"
    },
    "r": {
     "delete_cmd_postfix": ") ",
     "delete_cmd_prefix": "rm(",
     "library": "var_list.r",
     "varRefreshCmd": "cat(var_dic_list()) "
    }
   },
   "types_to_exclude": [
    "module",
    "function",
    "builtin_function_or_method",
    "instance",
    "_Feature"
   ],
   "window_display": false
  }
 },
 "nbformat": 4,
 "nbformat_minor": 4
}
