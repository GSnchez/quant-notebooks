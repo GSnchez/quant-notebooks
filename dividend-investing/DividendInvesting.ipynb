{
 "cells": [
  {
   "cell_type": "markdown",
   "metadata": {},
   "source": [
    "# Dividend Investing Model"
   ]
  },
  {
   "cell_type": "markdown",
   "metadata": {},
   "source": [
    "## Motivation"
   ]
  },
  {
   "cell_type": "markdown",
   "metadata": {},
   "source": [
    "Is it possible to earn $1000 every month without doing any work? How good would that be? I think earning free money is everyone's dream, but at first it looks quite difficult to achieve. However, there are actually ways to achieve making any amount of money every month without doing anything. I will introduce one of the ways to do that which is dividend investing."
   ]
  },
  {
   "cell_type": "markdown",
   "metadata": {},
   "source": [
    "## What is Dividend Investing?"
   ]
  },
  {
   "cell_type": "markdown",
   "metadata": {},
   "source": [
    "In the U.S. stock market, many healthy and mature companies pay cash to its shareholders as dividend every certain period. Periods can be monthly, quarterly or every 6 months or every year. The good thing is investors who own shares of those companies don't have to do anything to collect periodic dividends. Cash payments just deposit directly to shareholders' accounts. All shareholders have to do to collect dividends is just buy and hold the shares of the company which pay out dividends. As shareholders, we can do whatever we want with the dividends. we can pay monthly expenses like phone bills or rents, go shopping to buy whatever we want or buy more shares to collect more dividends later."
   ]
  },
  {
   "cell_type": "markdown",
   "metadata": {},
   "source": [
    "Dividend is one of the equity factors which generate extra alpha returns, and investing in the stocks which pay dividends to their shareholders can collect extra returns."
   ]
  },
  {
   "cell_type": "markdown",
   "metadata": {},
   "source": [
    "## What Companies Should We Buy and Hold?"
   ]
  },
  {
   "cell_type": "markdown",
   "metadata": {},
   "source": [
    "Dividend Investing doesn't involve frequent buy and sell activities. It's more like collecting good companies' shares for a very long time. The most important question is find out good companies to buy, and when we should buy them. Should we buy them when their prices are really expensive? No. We should buy them when their shares are traded at discount. How do we determine when prices are cheap? That's what we are going to find out in this notebook."
   ]
  },
  {
   "cell_type": "markdown",
   "metadata": {},
   "source": [
    "The safest place to get started is learn from history. There is a group of good companies called Dividend Kings which have increased their annual dividends more than 50 years! Companies like 3M, Coca-Cola and Johnson & Johnson are in that group. We will start analyzing some of the familiar companies in that group. We will further expand the pool of companies we can invest as we build our model from here.\n"
   ]
  },
  {
   "cell_type": "markdown",
   "metadata": {},
   "source": [
    "## How to Evaluate Good Companies?"
   ]
  },
  {
   "cell_type": "markdown",
   "metadata": {},
   "source": [
    "We will use first select companies we are familiar with strong global brands. Once we select a group of companies we want to investigate further, we will use Dividend Yield factor to determine whether the yield is attractive to invest in. "
   ]
  },
  {
   "cell_type": "markdown",
   "metadata": {},
   "source": [
    "$$\\text{Dividend Yield} = \\frac{\\text{Annual Dividend}}{\\text{Stock Price}}$$"
   ]
  },
  {
   "cell_type": "markdown",
   "metadata": {},
   "source": [
    "The numerator which is annual dividend doesn't fluctuate much, but stock price which is the denominator of Dividend Yield fluctuates depending on market environment. Since our goal is to collect as much annual dividend as possible from each stock, it's always good to buy stocks when they are traded at discount. This is why investors who really make lots of money buy VALUABLE stocks when the market is going down and people are selling their shares.\n",
    "\n",
    "The strong assumption here is that the companies we are intersted in buying must be valuable and worthy holding for a very long time."
   ]
  },
  {
   "cell_type": "code",
   "execution_count": 1,
   "metadata": {},
   "outputs": [],
   "source": [
    "import requests\n",
    "import pandas as pd\n",
    "import pandas_datareader.data as web\n",
    "import datetime as dt"
   ]
  },
  {
   "cell_type": "code",
   "execution_count": 2,
   "metadata": {},
   "outputs": [],
   "source": [
    "df = pd.read_csv('div_kings_2020.csv')"
   ]
  },
  {
   "cell_type": "code",
   "execution_count": 3,
   "metadata": {},
   "outputs": [],
   "source": [
    "def clear_why(s):\n",
    "    if '?' in s:\n",
    "        s = s[:s.index('?')]\n",
    "    return s"
   ]
  },
  {
   "cell_type": "code",
   "execution_count": 4,
   "metadata": {},
   "outputs": [],
   "source": [
    "consumer_defensive = df[(df['Exchange'] == 'NYSE')\n",
    "                        & (df['Sector'] == 'Consumer defensive')]"
   ]
  },
  {
   "cell_type": "code",
   "execution_count": 5,
   "metadata": {},
   "outputs": [
    {
     "name": "stderr",
     "output_type": "stream",
     "text": [
      "<ipython-input-5-7389b53989e6>:3: SettingWithCopyWarning: \n",
      "A value is trying to be set on a copy of a slice from a DataFrame.\n",
      "Try using .loc[row_indexer,col_indexer] = value instead\n",
      "\n",
      "See the caveats in the documentation: https://pandas.pydata.org/pandas-docs/stable/user_guide/indexing.html#returning-a-view-versus-a-copy\n",
      "  consumer_defensive['Company'] = consumer_defensive['Company'].apply(clear_why)\n",
      "<ipython-input-5-7389b53989e6>:4: SettingWithCopyWarning: \n",
      "A value is trying to be set on a copy of a slice from a DataFrame.\n",
      "Try using .loc[row_indexer,col_indexer] = value instead\n",
      "\n",
      "See the caveats in the documentation: https://pandas.pydata.org/pandas-docs/stable/user_guide/indexing.html#returning-a-view-versus-a-copy\n",
      "  consumer_defensive[\n"
     ]
    },
    {
     "data": {
      "text/html": [
       "<div>\n",
       "<style scoped>\n",
       "    .dataframe tbody tr th:only-of-type {\n",
       "        vertical-align: middle;\n",
       "    }\n",
       "\n",
       "    .dataframe tbody tr th {\n",
       "        vertical-align: top;\n",
       "    }\n",
       "\n",
       "    .dataframe thead th {\n",
       "        text-align: right;\n",
       "    }\n",
       "</style>\n",
       "<table border=\"1\" class=\"dataframe\">\n",
       "  <thead>\n",
       "    <tr style=\"text-align: right;\">\n",
       "      <th></th>\n",
       "      <th>Company</th>\n",
       "      <th>Ticker</th>\n",
       "      <th>Exchange</th>\n",
       "      <th>Sector</th>\n",
       "      <th>Consecutive Years of Dividend Increases</th>\n",
       "    </tr>\n",
       "  </thead>\n",
       "  <tbody>\n",
       "    <tr>\n",
       "      <th>5</th>\n",
       "      <td>Proctor &amp; Gamble</td>\n",
       "      <td>PG</td>\n",
       "      <td>NYSE</td>\n",
       "      <td>Consumer defensive</td>\n",
       "      <td>64</td>\n",
       "    </tr>\n",
       "    <tr>\n",
       "      <th>10</th>\n",
       "      <td>Coca-Cola</td>\n",
       "      <td>KO</td>\n",
       "      <td>NYSE</td>\n",
       "      <td>Consumer defensive</td>\n",
       "      <td>58</td>\n",
       "    </tr>\n",
       "    <tr>\n",
       "      <th>13</th>\n",
       "      <td>Colgate-Palmolive</td>\n",
       "      <td>CL</td>\n",
       "      <td>NYSE</td>\n",
       "      <td>Consumer defensive</td>\n",
       "      <td>57</td>\n",
       "    </tr>\n",
       "    <tr>\n",
       "      <th>15</th>\n",
       "      <td>Hormel Foods</td>\n",
       "      <td>HRL</td>\n",
       "      <td>NYSE</td>\n",
       "      <td>Consumer defensive</td>\n",
       "      <td>55</td>\n",
       "    </tr>\n",
       "    <tr>\n",
       "      <th>23</th>\n",
       "      <td>Sysco</td>\n",
       "      <td>SYY</td>\n",
       "      <td>NYSE</td>\n",
       "      <td>Consumer defensive</td>\n",
       "      <td>52</td>\n",
       "    </tr>\n",
       "    <tr>\n",
       "      <th>24</th>\n",
       "      <td>Altria Group</td>\n",
       "      <td>MO</td>\n",
       "      <td>NYSE</td>\n",
       "      <td>Consumer defensive</td>\n",
       "      <td>51</td>\n",
       "    </tr>\n",
       "  </tbody>\n",
       "</table>\n",
       "</div>"
      ],
      "text/plain": [
       "              Company Ticker Exchange              Sector  \\\n",
       "5    Proctor & Gamble     PG     NYSE  Consumer defensive   \n",
       "10          Coca-Cola     KO     NYSE  Consumer defensive   \n",
       "13  Colgate-Palmolive     CL     NYSE  Consumer defensive   \n",
       "15       Hormel Foods    HRL     NYSE  Consumer defensive   \n",
       "23              Sysco    SYY     NYSE  Consumer defensive   \n",
       "24       Altria Group     MO     NYSE  Consumer defensive   \n",
       "\n",
       "   Consecutive Years of Dividend Increases  \n",
       "5                                       64  \n",
       "10                                      58  \n",
       "13                                      57  \n",
       "15                                      55  \n",
       "23                                      52  \n",
       "24                                      51  "
      ]
     },
     "execution_count": 5,
     "metadata": {},
     "output_type": "execute_result"
    }
   ],
   "source": [
    "consumer_defensive = df[(df['Exchange'] == 'NYSE')\n",
    "                        & (df['Sector'] == 'Consumer defensive')]\n",
    "consumer_defensive['Company'] = consumer_defensive['Company'].apply(clear_why)\n",
    "consumer_defensive[\n",
    "    'Consecutive Years of Dividend Increases'] = consumer_defensive[\n",
    "        'Consecutive Years of Dividend Increases'].apply(clear_why)\n",
    "consumer_defensive"
   ]
  },
  {
   "cell_type": "markdown",
   "metadata": {},
   "source": [
    "## Get dividend yield of each stock"
   ]
  },
  {
   "cell_type": "code",
   "execution_count": 6,
   "metadata": {},
   "outputs": [],
   "source": [
    "import requests\n",
    "\n",
    "companyData = {}\n",
    "\n",
    "demo = '0e7ffe0a59b049fe7fae7e8ab2296664'\n",
    "\n",
    "for ticker in consumer_defensive['Ticker']:\n",
    "    try:\n",
    "        companyProfile = requests.get(\n",
    "            f'https://financialmodelingprep.com/api/v3/profile/{ticker}?apikey={demo}'\n",
    "        )\n",
    "\n",
    "        companyProfile = companyProfile.json()\n",
    "        price = companyProfile[0]['price']\n",
    "        marketCapitalization = companyProfile[0]['mktCap']\n",
    "        name = companyProfile[0]['companyName']\n",
    "        exchange = companyProfile[0]['exchange']\n",
    "        div = companyProfile[0]['lastDiv']\n",
    "\n",
    "        companyData[ticker] = {}\n",
    "        companyData[ticker]['companyName'] = name\n",
    "        companyData[ticker]['exchange'] = exchange\n",
    "        companyData[ticker][\n",
    "            'marketCap_in_B'] = marketCapitalization / 1000000000\n",
    "        companyData[ticker]['latestPrice'] = price\n",
    "        companyData[ticker]['latestDividend'] = div\n",
    "\n",
    "        financialRatios = requests.get(\n",
    "            f'https://financialmodelingprep.com/api/v3/ratios-ttm/{ticker}?apikey={demo}'\n",
    "        )\n",
    "\n",
    "        financialRatios = financialRatios.json()\n",
    "\n",
    "        companyData[ticker]['dividendYieldPercent'] = financialRatios[0][\n",
    "            \"dividendYielPercentageTTM\"]\n",
    "        companyData[ticker]['PER'] = financialRatios[0]['peRatioTTM']\n",
    "        companyData[ticker]['ROE'] = financialRatios[0]['returnOnEquityTTM']\n",
    "\n",
    "    except:\n",
    "        pass"
   ]
  },
  {
   "cell_type": "code",
   "execution_count": 7,
   "metadata": {},
   "outputs": [
    {
     "data": {
      "text/plain": [
       "{'PG': {'companyName': 'Procter & Gamble Co',\n",
       "  'exchange': 'New York Stock Exchange',\n",
       "  'marketCap_in_B': 316.231647,\n",
       "  'latestPrice': 128.42,\n",
       "  'latestDividend': 3.164,\n",
       "  'dividendYieldPercent': 2.463790686808909,\n",
       "  'PER': 23.359626265753896,\n",
       "  'ROE': 0.29397528977200355},\n",
       " 'KO': {'companyName': 'Coca-Cola Co',\n",
       "  'exchange': 'New York Stock Exchange',\n",
       "  'marketCap_in_B': 220.809052,\n",
       "  'latestPrice': 51.24,\n",
       "  'latestDividend': 1.65,\n",
       "  'dividendYieldPercent': 3.220140515222482,\n",
       "  'PER': 28.39464566929134,\n",
       "  'ROE': 0.42133028770326864},\n",
       " 'CL': {'companyName': 'Colgate-Palmolive Co',\n",
       "  'exchange': 'New York Stock Exchange',\n",
       "  'marketCap_in_B': 64.321077,\n",
       "  'latestPrice': 75.8,\n",
       "  'latestDividend': 1.76,\n",
       "  'dividendYieldPercent': 2.3218997361477576,\n",
       "  'PER': 24.022552875695734,\n",
       "  'ROE': 6.950354609929078},\n",
       " 'HRL': {'companyName': 'Hormel Foods Corp',\n",
       "  'exchange': 'New York Stock Exchange',\n",
       "  'marketCap_in_B': 26.012926,\n",
       "  'latestPrice': 47.96,\n",
       "  'latestDividend': 0.9435,\n",
       "  'dividendYieldPercent': 1.9672643869891575,\n",
       "  'PER': 29.555069046726068,\n",
       "  'ROE': 0.13973765656759604},\n",
       " 'SYY': {'companyName': 'Sysco Corp',\n",
       "  'exchange': 'New York Stock Exchange',\n",
       "  'marketCap_in_B': 41.220874,\n",
       "  'latestPrice': 80.76,\n",
       "  'latestDividend': 1.8,\n",
       "  'dividendYieldPercent': 2.2288261515601784,\n",
       "  'PER': -145.64078827636612,\n",
       "  'ROE': -0.19062771956776722},\n",
       " 'MO': {'companyName': 'Altria Group Inc',\n",
       "  'exchange': 'New York Stock Exchange',\n",
       "  'marketCap_in_B': 92.525584,\n",
       "  'latestPrice': 49.78,\n",
       "  'latestDividend': 4.26,\n",
       "  'dividendYieldPercent': 8.55765367617517,\n",
       "  'PER': 20.71659279158272,\n",
       "  'ROE': 0.9812729968696798}}"
      ]
     },
     "execution_count": 7,
     "metadata": {},
     "output_type": "execute_result"
    }
   ],
   "source": [
    "companyData"
   ]
  },
  {
   "cell_type": "code",
   "execution_count": 8,
   "metadata": {},
   "outputs": [
    {
     "data": {
      "text/html": [
       "<div>\n",
       "<style scoped>\n",
       "    .dataframe tbody tr th:only-of-type {\n",
       "        vertical-align: middle;\n",
       "    }\n",
       "\n",
       "    .dataframe tbody tr th {\n",
       "        vertical-align: top;\n",
       "    }\n",
       "\n",
       "    .dataframe thead th {\n",
       "        text-align: right;\n",
       "    }\n",
       "</style>\n",
       "<table border=\"1\" class=\"dataframe\">\n",
       "  <thead>\n",
       "    <tr style=\"text-align: right;\">\n",
       "      <th></th>\n",
       "      <th>companyName</th>\n",
       "      <th>exchange</th>\n",
       "      <th>marketCap_in_B</th>\n",
       "      <th>latestPrice</th>\n",
       "      <th>latestDividend</th>\n",
       "      <th>dividendYieldPercent</th>\n",
       "      <th>PER</th>\n",
       "      <th>ROE</th>\n",
       "    </tr>\n",
       "  </thead>\n",
       "  <tbody>\n",
       "    <tr>\n",
       "      <th>MO</th>\n",
       "      <td>Altria Group Inc</td>\n",
       "      <td>New York Stock Exchange</td>\n",
       "      <td>92.525584</td>\n",
       "      <td>49.78</td>\n",
       "      <td>4.2600</td>\n",
       "      <td>8.557654</td>\n",
       "      <td>20.716593</td>\n",
       "      <td>0.981273</td>\n",
       "    </tr>\n",
       "    <tr>\n",
       "      <th>KO</th>\n",
       "      <td>Coca-Cola Co</td>\n",
       "      <td>New York Stock Exchange</td>\n",
       "      <td>220.809052</td>\n",
       "      <td>51.24</td>\n",
       "      <td>1.6500</td>\n",
       "      <td>3.220141</td>\n",
       "      <td>28.394646</td>\n",
       "      <td>0.421330</td>\n",
       "    </tr>\n",
       "    <tr>\n",
       "      <th>PG</th>\n",
       "      <td>Procter &amp; Gamble Co</td>\n",
       "      <td>New York Stock Exchange</td>\n",
       "      <td>316.231647</td>\n",
       "      <td>128.42</td>\n",
       "      <td>3.1640</td>\n",
       "      <td>2.463791</td>\n",
       "      <td>23.359626</td>\n",
       "      <td>0.293975</td>\n",
       "    </tr>\n",
       "    <tr>\n",
       "      <th>CL</th>\n",
       "      <td>Colgate-Palmolive Co</td>\n",
       "      <td>New York Stock Exchange</td>\n",
       "      <td>64.321077</td>\n",
       "      <td>75.80</td>\n",
       "      <td>1.7600</td>\n",
       "      <td>2.321900</td>\n",
       "      <td>24.022553</td>\n",
       "      <td>6.950355</td>\n",
       "    </tr>\n",
       "    <tr>\n",
       "      <th>SYY</th>\n",
       "      <td>Sysco Corp</td>\n",
       "      <td>New York Stock Exchange</td>\n",
       "      <td>41.220874</td>\n",
       "      <td>80.76</td>\n",
       "      <td>1.8000</td>\n",
       "      <td>2.228826</td>\n",
       "      <td>-145.640788</td>\n",
       "      <td>-0.190628</td>\n",
       "    </tr>\n",
       "    <tr>\n",
       "      <th>HRL</th>\n",
       "      <td>Hormel Foods Corp</td>\n",
       "      <td>New York Stock Exchange</td>\n",
       "      <td>26.012926</td>\n",
       "      <td>47.96</td>\n",
       "      <td>0.9435</td>\n",
       "      <td>1.967264</td>\n",
       "      <td>29.555069</td>\n",
       "      <td>0.139738</td>\n",
       "    </tr>\n",
       "  </tbody>\n",
       "</table>\n",
       "</div>"
      ],
      "text/plain": [
       "              companyName                 exchange  marketCap_in_B  \\\n",
       "MO       Altria Group Inc  New York Stock Exchange       92.525584   \n",
       "KO           Coca-Cola Co  New York Stock Exchange      220.809052   \n",
       "PG    Procter & Gamble Co  New York Stock Exchange      316.231647   \n",
       "CL   Colgate-Palmolive Co  New York Stock Exchange       64.321077   \n",
       "SYY            Sysco Corp  New York Stock Exchange       41.220874   \n",
       "HRL     Hormel Foods Corp  New York Stock Exchange       26.012926   \n",
       "\n",
       "     latestPrice  latestDividend  dividendYieldPercent         PER       ROE  \n",
       "MO         49.78          4.2600              8.557654   20.716593  0.981273  \n",
       "KO         51.24          1.6500              3.220141   28.394646  0.421330  \n",
       "PG        128.42          3.1640              2.463791   23.359626  0.293975  \n",
       "CL         75.80          1.7600              2.321900   24.022553  6.950355  \n",
       "SYY        80.76          1.8000              2.228826 -145.640788 -0.190628  \n",
       "HRL        47.96          0.9435              1.967264   29.555069  0.139738  "
      ]
     },
     "execution_count": 8,
     "metadata": {},
     "output_type": "execute_result"
    }
   ],
   "source": [
    "df = pd.DataFrame.from_dict(companyData, orient='index')\n",
    "df = df.sort_values(['dividendYieldPercent'], ascending=False)\n",
    "df"
   ]
  },
  {
   "cell_type": "markdown",
   "metadata": {},
   "source": [
    "## Dividend Growth Rate is What Really Matters"
   ]
  },
  {
   "cell_type": "markdown",
   "metadata": {},
   "source": [
    "There are lots of companies which have really high dividend yield, but not all of them are good candidates for investments. Since the denominator of dividend yield is stock price, companies which experience heavy sell-offs due to whatever reasons they might have can have really high dividend yield. What really matters is to determine whether companies can gerate good profits over the long period of time to pay out consistent dividends to their shareholders. In order to generate good profits, they must have good business models."
   ]
  },
  {
   "cell_type": "markdown",
   "metadata": {},
   "source": [
    "Is it possible to extract a list of companies which have increated their annual dividends over long time?"
   ]
  },
  {
   "cell_type": "markdown",
   "metadata": {},
   "source": [
    "Momentum Analysis Value Dividend Growth vs Growth Stocks\n",
    "\n",
    "A Balanced Portfolio cosisting of High Dividend Stocks, Dividend Growth Stocks, and Growth Stocks.\n",
    "\n",
    "Growth stocks: companies experiencing high growth potentials --> they like to reinvest their earnings to expand business models\n",
    "Dividend Growth stocks: somewhat matured companies but still growing --> they have strong brand power or sustainable business models to stay financially healthy --> they like to increase dividends \n",
    "High Dividend Stocks: matured companies with less chance of huge growth potentials --> sustainable businesses with stable cash flow --> stock prices might be slowing down"
   ]
  },
  {
   "cell_type": "markdown",
   "metadata": {},
   "source": [
    "Dividend Cut Alert\n",
    "\n",
    "Factors to Consider\n",
    "\n",
    "- Dividend Yield\n",
    "- Dividend Growth\n",
    "- Earnings Per Share\n",
    "- Revenue Growth"
   ]
  },
  {
   "cell_type": "markdown",
   "metadata": {},
   "source": [
    "## How Much Dividends Have We Collected?"
   ]
  },
  {
   "cell_type": "code",
   "execution_count": 115,
   "metadata": {},
   "outputs": [],
   "source": [
    "import pandas as pd\n",
    "import datetime as dt\n",
    "from qtrade import Questrade\n",
    "import matplotlib.pyplot as plt"
   ]
  },
  {
   "cell_type": "markdown",
   "metadata": {},
   "source": [
    "I am going to use python to collect monthly dividend payment data from my investing account using Questrade API. Below, we need start and end date of each month to retrieve monthly account activities."
   ]
  },
  {
   "cell_type": "code",
   "execution_count": 116,
   "metadata": {},
   "outputs": [],
   "source": [
    "startDate = '2018-04-01'\n",
    "endDate = dt.date.today().strftime(\"%Y-%m-%d\")\n",
    "dtrange = pd.date_range(startDate,endDate,freq='d')\n",
    "months = pd.Series(dtrange.month)\n",
    "starts, ends = months.ne(months.shift(1)), months.ne(months.shift(-1))\n",
    "startEndDates = pd.DataFrame({'month_starting_date': dtrange[starts].strftime('%Y-%m-%d'),\n",
    "                               'month_ending_date': dtrange[ends].strftime('%Y-%m-%d')})\n",
    "dateList = startEndDates.values.tolist()"
   ]
  },
  {
   "cell_type": "code",
   "execution_count": 117,
   "metadata": {},
   "outputs": [],
   "source": [
    "qtrade = Questrade(token_yaml='access_token.yml')\n",
    "#qtrade = Questrade(access_code=token)\n",
    "acctId = qtrade.get_account_id()"
   ]
  },
  {
   "cell_type": "code",
   "execution_count": 118,
   "metadata": {
    "code_folding": []
   },
   "outputs": [
    {
     "data": {
      "text/plain": [
       "{'2018-04': 0.67,\n",
       " '2018-05': 0.8700000000000001,\n",
       " '2018-06': 5.66,\n",
       " '2018-07': 1.87,\n",
       " '2018-08': 0.8500000000000001,\n",
       " '2018-09': 0.8500000000000001,\n",
       " '2018-10': 1.83,\n",
       " '2018-11': 0.8700000000000001,\n",
       " '2018-12': 0.18,\n",
       " '2019-01': 5.91,\n",
       " '2019-02': 0.91,\n",
       " '2019-03': 2.4400000000000004,\n",
       " '2019-04': 0.8400000000000001,\n",
       " '2019-05': 0.8700000000000001,\n",
       " '2019-06': 5.35,\n",
       " '2019-07': 2.29,\n",
       " '2019-08': 0.8700000000000001,\n",
       " '2019-09': 0.8500000000000001,\n",
       " '2019-10': 2.2,\n",
       " '2019-11': 0.8600000000000001,\n",
       " '2019-12': 0.17,\n",
       " '2020-01': 3.91,\n",
       " '2020-02': 1.73,\n",
       " '2020-03': 3.33,\n",
       " '2020-04': 1.73,\n",
       " '2020-05': 1.94,\n",
       " '2020-06': 1.94,\n",
       " '2020-07': 3.9299999999999997,\n",
       " '2020-08': 2.49,\n",
       " '2020-09': 2.49,\n",
       " '2020-10': 4.08,\n",
       " '2020-11': 2.45,\n",
       " '2020-12': 0,\n",
       " '2021-01': 6.41,\n",
       " '2021-02': 0,\n",
       " '2021-03': 0.8899999999999999}"
      ]
     },
     "execution_count": 118,
     "metadata": {},
     "output_type": "execute_result"
    }
   ],
   "source": [
    "output = {}\n",
    "total_div = 0\n",
    "for d in dateList:\n",
    "    start = d[0]\n",
    "    end = d[1]\n",
    "    activities = qtrade.get_account_activities(acctId[0], start, end)\n",
    "    monthly_div = 0\n",
    "    for activity in activities:\n",
    "        if activity['type'] == 'Dividends':\n",
    "            monthly_div = monthly_div + activity['netAmount']\n",
    "    output[dt.datetime.strptime(start,\"%Y-%m-%d\").strftime(\"%Y-%m\")] = monthly_div\n",
    "    total_div = total_div + monthly_div\n",
    "    #print(f'from {start} to {end}, {monthly_div} was collected.')\n",
    "\n",
    "output"
   ]
  },
  {
   "cell_type": "code",
   "execution_count": 119,
   "metadata": {},
   "outputs": [
    {
     "data": {
      "text/html": [
       "<div>\n",
       "<style scoped>\n",
       "    .dataframe tbody tr th:only-of-type {\n",
       "        vertical-align: middle;\n",
       "    }\n",
       "\n",
       "    .dataframe tbody tr th {\n",
       "        vertical-align: top;\n",
       "    }\n",
       "\n",
       "    .dataframe thead th {\n",
       "        text-align: right;\n",
       "    }\n",
       "</style>\n",
       "<table border=\"1\" class=\"dataframe\">\n",
       "  <thead>\n",
       "    <tr style=\"text-align: right;\">\n",
       "      <th></th>\n",
       "      <th>Monthly_Div</th>\n",
       "    </tr>\n",
       "  </thead>\n",
       "  <tbody>\n",
       "    <tr>\n",
       "      <th>2018-04</th>\n",
       "      <td>0.67</td>\n",
       "    </tr>\n",
       "    <tr>\n",
       "      <th>2018-05</th>\n",
       "      <td>0.87</td>\n",
       "    </tr>\n",
       "    <tr>\n",
       "      <th>2018-06</th>\n",
       "      <td>5.66</td>\n",
       "    </tr>\n",
       "    <tr>\n",
       "      <th>2018-07</th>\n",
       "      <td>1.87</td>\n",
       "    </tr>\n",
       "    <tr>\n",
       "      <th>2018-08</th>\n",
       "      <td>0.85</td>\n",
       "    </tr>\n",
       "    <tr>\n",
       "      <th>2018-09</th>\n",
       "      <td>0.85</td>\n",
       "    </tr>\n",
       "    <tr>\n",
       "      <th>2018-10</th>\n",
       "      <td>1.83</td>\n",
       "    </tr>\n",
       "    <tr>\n",
       "      <th>2018-11</th>\n",
       "      <td>0.87</td>\n",
       "    </tr>\n",
       "    <tr>\n",
       "      <th>2018-12</th>\n",
       "      <td>0.18</td>\n",
       "    </tr>\n",
       "    <tr>\n",
       "      <th>2019-01</th>\n",
       "      <td>5.91</td>\n",
       "    </tr>\n",
       "    <tr>\n",
       "      <th>2019-02</th>\n",
       "      <td>0.91</td>\n",
       "    </tr>\n",
       "    <tr>\n",
       "      <th>2019-03</th>\n",
       "      <td>2.44</td>\n",
       "    </tr>\n",
       "    <tr>\n",
       "      <th>2019-04</th>\n",
       "      <td>0.84</td>\n",
       "    </tr>\n",
       "    <tr>\n",
       "      <th>2019-05</th>\n",
       "      <td>0.87</td>\n",
       "    </tr>\n",
       "    <tr>\n",
       "      <th>2019-06</th>\n",
       "      <td>5.35</td>\n",
       "    </tr>\n",
       "    <tr>\n",
       "      <th>2019-07</th>\n",
       "      <td>2.29</td>\n",
       "    </tr>\n",
       "    <tr>\n",
       "      <th>2019-08</th>\n",
       "      <td>0.87</td>\n",
       "    </tr>\n",
       "    <tr>\n",
       "      <th>2019-09</th>\n",
       "      <td>0.85</td>\n",
       "    </tr>\n",
       "    <tr>\n",
       "      <th>2019-10</th>\n",
       "      <td>2.20</td>\n",
       "    </tr>\n",
       "    <tr>\n",
       "      <th>2019-11</th>\n",
       "      <td>0.86</td>\n",
       "    </tr>\n",
       "    <tr>\n",
       "      <th>2019-12</th>\n",
       "      <td>0.17</td>\n",
       "    </tr>\n",
       "    <tr>\n",
       "      <th>2020-01</th>\n",
       "      <td>3.91</td>\n",
       "    </tr>\n",
       "    <tr>\n",
       "      <th>2020-02</th>\n",
       "      <td>1.73</td>\n",
       "    </tr>\n",
       "    <tr>\n",
       "      <th>2020-03</th>\n",
       "      <td>3.33</td>\n",
       "    </tr>\n",
       "    <tr>\n",
       "      <th>2020-04</th>\n",
       "      <td>1.73</td>\n",
       "    </tr>\n",
       "    <tr>\n",
       "      <th>2020-05</th>\n",
       "      <td>1.94</td>\n",
       "    </tr>\n",
       "    <tr>\n",
       "      <th>2020-06</th>\n",
       "      <td>1.94</td>\n",
       "    </tr>\n",
       "    <tr>\n",
       "      <th>2020-07</th>\n",
       "      <td>3.93</td>\n",
       "    </tr>\n",
       "    <tr>\n",
       "      <th>2020-08</th>\n",
       "      <td>2.49</td>\n",
       "    </tr>\n",
       "    <tr>\n",
       "      <th>2020-09</th>\n",
       "      <td>2.49</td>\n",
       "    </tr>\n",
       "    <tr>\n",
       "      <th>2020-10</th>\n",
       "      <td>4.08</td>\n",
       "    </tr>\n",
       "    <tr>\n",
       "      <th>2020-11</th>\n",
       "      <td>2.45</td>\n",
       "    </tr>\n",
       "    <tr>\n",
       "      <th>2020-12</th>\n",
       "      <td>0.00</td>\n",
       "    </tr>\n",
       "    <tr>\n",
       "      <th>2021-01</th>\n",
       "      <td>6.41</td>\n",
       "    </tr>\n",
       "    <tr>\n",
       "      <th>2021-02</th>\n",
       "      <td>0.00</td>\n",
       "    </tr>\n",
       "    <tr>\n",
       "      <th>2021-03</th>\n",
       "      <td>0.89</td>\n",
       "    </tr>\n",
       "  </tbody>\n",
       "</table>\n",
       "</div>"
      ],
      "text/plain": [
       "         Monthly_Div\n",
       "2018-04         0.67\n",
       "2018-05         0.87\n",
       "2018-06         5.66\n",
       "2018-07         1.87\n",
       "2018-08         0.85\n",
       "2018-09         0.85\n",
       "2018-10         1.83\n",
       "2018-11         0.87\n",
       "2018-12         0.18\n",
       "2019-01         5.91\n",
       "2019-02         0.91\n",
       "2019-03         2.44\n",
       "2019-04         0.84\n",
       "2019-05         0.87\n",
       "2019-06         5.35\n",
       "2019-07         2.29\n",
       "2019-08         0.87\n",
       "2019-09         0.85\n",
       "2019-10         2.20\n",
       "2019-11         0.86\n",
       "2019-12         0.17\n",
       "2020-01         3.91\n",
       "2020-02         1.73\n",
       "2020-03         3.33\n",
       "2020-04         1.73\n",
       "2020-05         1.94\n",
       "2020-06         1.94\n",
       "2020-07         3.93\n",
       "2020-08         2.49\n",
       "2020-09         2.49\n",
       "2020-10         4.08\n",
       "2020-11         2.45\n",
       "2020-12         0.00\n",
       "2021-01         6.41\n",
       "2021-02         0.00\n",
       "2021-03         0.89"
      ]
     },
     "execution_count": 119,
     "metadata": {},
     "output_type": "execute_result"
    }
   ],
   "source": [
    "final_df = pd.DataFrame.from_dict(output, orient='index', columns=['Monthly_Div'])\n",
    "final_df"
   ]
  },
  {
   "cell_type": "code",
   "execution_count": 138,
   "metadata": {},
   "outputs": [
    {
     "data": {
      "text/plain": [
       "[0.67,\n",
       " 0.8700000000000001,\n",
       " 5.66,\n",
       " 1.87,\n",
       " 0.8500000000000001,\n",
       " 0.8500000000000001,\n",
       " 1.83,\n",
       " 0.8700000000000001,\n",
       " 0.18,\n",
       " 5.91,\n",
       " 0.91,\n",
       " 2.4400000000000004,\n",
       " 0.8400000000000001,\n",
       " 0.8700000000000001,\n",
       " 5.35,\n",
       " 2.29,\n",
       " 0.8700000000000001,\n",
       " 0.8500000000000001,\n",
       " 2.2,\n",
       " 0.8600000000000001,\n",
       " 0.17,\n",
       " 3.91,\n",
       " 1.73,\n",
       " 3.33,\n",
       " 1.73,\n",
       " 1.94,\n",
       " 1.94,\n",
       " 3.9299999999999997,\n",
       " 2.49,\n",
       " 2.49,\n",
       " 4.08,\n",
       " 2.45,\n",
       " 0.0,\n",
       " 6.41,\n",
       " 0.0,\n",
       " 0.8899999999999999]"
      ]
     },
     "execution_count": 138,
     "metadata": {},
     "output_type": "execute_result"
    }
   ],
   "source": [
    "ylabels = [x for x in final_df['Monthly_Div']]\n",
    "ylabels"
   ]
  },
  {
   "cell_type": "code",
   "execution_count": 143,
   "metadata": {},
   "outputs": [
    {
     "data": {
      "text/plain": [
       "<AxesSubplot:title={'center':'Monthly Dividend Payments'}, xlabel='Months', ylabel='Dividend ($)'>"
      ]
     },
     "execution_count": 143,
     "metadata": {},
     "output_type": "execute_result"
    },
    {
     "data": {
      "image/png": "[encoded data removed]",
      "text/plain": [
       "<Figure size 1080x720 with 1 Axes>"
      ]
     },
     "metadata": {
      "needs_background": "light"
     },
     "output_type": "display_data"
    }
   ],
   "source": [
    "final_df.plot(kind='bar', title='Monthly Dividend Payments', \n",
    "              xlabel='Months', ylabel='Dividend ($)', figsize=(15,10), legend=False)"
   ]
  },
  {
   "cell_type": "code",
   "execution_count": 144,
   "metadata": {},
   "outputs": [
    {
     "data": {
      "text/plain": [
       "74.53"
      ]
     },
     "execution_count": 144,
     "metadata": {},
     "output_type": "execute_result"
    }
   ],
   "source": [
    "total_div"
   ]
  },
  {
   "cell_type": "code",
   "execution_count": null,
   "metadata": {},
   "outputs": [],
   "source": []
  }
 ],
 "metadata": {
  "kernelspec": {
   "display_name": "Python 3",
   "language": "python",
   "name": "python3"
  },
  "language_info": {
   "codemirror_mode": {
    "name": "ipython",
    "version": 3
   },
   "file_extension": ".py",
   "mimetype": "text/x-python",
   "name": "python",
   "nbconvert_exporter": "python",
   "pygments_lexer": "ipython3",
   "version": "3.8.5"
  },
  "toc": {
   "base_numbering": 1,
   "nav_menu": {},
   "number_sections": false,
   "sideBar": true,
   "skip_h1_title": false,
   "title_cell": "Table of Contents",
   "title_sidebar": "Contents",
   "toc_cell": false,
   "toc_position": {},
   "toc_section_display": true,
   "toc_window_display": true
  },
  "varInspector": {
   "cols": {
    "lenName": 16,
    "lenType": 16,
    "lenVar": 40
   },
   "kernels_config": {
    "python": {
     "delete_cmd_postfix": "",
     "delete_cmd_prefix": "del ",
     "library": "var_list.py",
     "varRefreshCmd": "print(var_dic_list())"
    },
    "r": {
     "delete_cmd_postfix": ") ",
     "delete_cmd_prefix": "rm(",
     "library": "var_list.r",
     "varRefreshCmd": "cat(var_dic_list()) "
    }
   },
   "types_to_exclude": [
    "module",
    "function",
    "builtin_function_or_method",
    "instance",
    "_Feature"
   ],
   "window_display": false
  }
 },
 "nbformat": 4,
 "nbformat_minor": 4
}
