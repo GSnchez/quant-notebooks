{
 "cells": [
  {
   "cell_type": "code",
   "execution_count": 1,
   "metadata": {},
   "outputs": [],
   "source": [
    "import pandas_datareader.data as web\n",
    "import pandas as pd\n",
    "import numpy as np\n",
    "import matplotlib.pyplot as plt\n",
    "import datetime as dt"
   ]
  },
  {
   "cell_type": "markdown",
   "metadata": {},
   "source": [
    "# Define Time Period and Parameters"
   ]
  },
  {
   "cell_type": "code",
   "execution_count": 2,
   "metadata": {},
   "outputs": [],
   "source": [
    "START_DATE = dt.datetime(1970,1,1)\n",
    "END_DATE = dt.datetime(2020,12,31)\n",
    "T = 12"
   ]
  },
  {
   "cell_type": "markdown",
   "metadata": {},
   "source": [
    "# Define Asset Allocation"
   ]
  },
  {
   "cell_type": "code",
   "execution_count": 3,
   "metadata": {},
   "outputs": [],
   "source": [
    "portfolios = {'GEM': ['SPY', 'VEU', 'BND'],\n",
    "              'GBM': ['SPY', 'VEU', 'BND'],\n",
    "             'benchmark': ['SPY'],\n",
    "             'sixtyForty': ['SPY', 'BND'],\n",
    "             'Permanent': ['VTI', 'BIL', 'TLT', 'GLD']}\n",
    "momentum = ['GEM', 'GBM']\n",
    "fixed_portfolio = ['sixtyForty']"
   ]
  },
  {
   "cell_type": "markdown",
   "metadata": {},
   "source": [
    "# Get Price Data"
   ]
  },
  {
   "cell_type": "code",
   "execution_count": 4,
   "metadata": {},
   "outputs": [
    {
     "data": {
      "text/plain": [
       "['VEU', 'VTI', 'BND', 'GLD', 'TLT', 'BIL', 'SPY']"
      ]
     },
     "execution_count": 4,
     "metadata": {},
     "output_type": "execute_result"
    }
   ],
   "source": [
    "combined_assets = []\n",
    "\n",
    "for portfolio in portfolios.keys():\n",
    "    combined_assets = combined_assets + portfolios[portfolio]\n",
    "\n",
    "combined_assets = list(set(combined_assets))\n",
    "combined_assets"
   ]
  },
  {
   "cell_type": "code",
   "execution_count": 5,
   "metadata": {},
   "outputs": [],
   "source": [
    "prices = pd.DataFrame()\n",
    "for asset in combined_assets:\n",
    "    prices[asset] = web.DataReader(asset, 'yahoo', START_DATE, END_DATE)['Adj Close']\n",
    "prices.dropna(inplace=True)\n",
    "prices.reset_index(inplace=True)"
   ]
  },
  {
   "cell_type": "markdown",
   "metadata": {},
   "source": [
    "## Convert Daily Prices to Monthly Prices"
   ]
  },
  {
   "cell_type": "code",
   "execution_count": 6,
   "metadata": {},
   "outputs": [],
   "source": [
    "prices['STD_YM'] = prices['Date'].map(lambda x : dt.datetime.strftime(x, '%Y-%m'))"
   ]
  },
  {
   "cell_type": "code",
   "execution_count": 7,
   "metadata": {},
   "outputs": [],
   "source": [
    "month_list = prices['STD_YM'].unique()\n",
    "monthly_prices = pd.DataFrame()\n",
    "for m in month_list:\n",
    "    monthly_prices = monthly_prices.append(prices[prices['STD_YM'] == m].iloc[-1,:])"
   ]
  },
  {
   "cell_type": "code",
   "execution_count": 8,
   "metadata": {},
   "outputs": [],
   "source": [
    "monthly_prices = monthly_prices.drop(columns=['STD_YM'], axis=1)"
   ]
  },
  {
   "cell_type": "code",
   "execution_count": 9,
   "metadata": {},
   "outputs": [
    {
     "data": {
      "text/html": [
       "<div>\n",
       "<style scoped>\n",
       "    .dataframe tbody tr th:only-of-type {\n",
       "        vertical-align: middle;\n",
       "    }\n",
       "\n",
       "    .dataframe tbody tr th {\n",
       "        vertical-align: top;\n",
       "    }\n",
       "\n",
       "    .dataframe thead th {\n",
       "        text-align: right;\n",
       "    }\n",
       "</style>\n",
       "<table border=\"1\" class=\"dataframe\">\n",
       "  <thead>\n",
       "    <tr style=\"text-align: right;\">\n",
       "      <th></th>\n",
       "      <th>BIL</th>\n",
       "      <th>BND</th>\n",
       "      <th>GLD</th>\n",
       "      <th>SPY</th>\n",
       "      <th>TLT</th>\n",
       "      <th>VEU</th>\n",
       "      <th>VTI</th>\n",
       "    </tr>\n",
       "    <tr>\n",
       "      <th>Date</th>\n",
       "      <th></th>\n",
       "      <th></th>\n",
       "      <th></th>\n",
       "      <th></th>\n",
       "      <th></th>\n",
       "      <th></th>\n",
       "      <th></th>\n",
       "    </tr>\n",
       "  </thead>\n",
       "  <tbody>\n",
       "    <tr>\n",
       "      <th>2007-05-31</th>\n",
       "      <td>83.782814</td>\n",
       "      <td>48.574444</td>\n",
       "      <td>65.540001</td>\n",
       "      <td>115.936897</td>\n",
       "      <td>57.035923</td>\n",
       "      <td>39.000221</td>\n",
       "      <td>58.269627</td>\n",
       "    </tr>\n",
       "    <tr>\n",
       "      <th>2007-06-29</th>\n",
       "      <td>84.148705</td>\n",
       "      <td>48.423214</td>\n",
       "      <td>64.269997</td>\n",
       "      <td>114.241768</td>\n",
       "      <td>56.457874</td>\n",
       "      <td>39.261978</td>\n",
       "      <td>57.242474</td>\n",
       "    </tr>\n",
       "    <tr>\n",
       "      <th>2007-07-31</th>\n",
       "      <td>84.484917</td>\n",
       "      <td>48.869820</td>\n",
       "      <td>65.790001</td>\n",
       "      <td>110.664864</td>\n",
       "      <td>58.331753</td>\n",
       "      <td>38.807369</td>\n",
       "      <td>55.219147</td>\n",
       "    </tr>\n",
       "    <tr>\n",
       "      <th>2007-08-31</th>\n",
       "      <td>84.844711</td>\n",
       "      <td>49.594765</td>\n",
       "      <td>66.519997</td>\n",
       "      <td>112.084999</td>\n",
       "      <td>59.374557</td>\n",
       "      <td>38.731590</td>\n",
       "      <td>56.031559</td>\n",
       "    </tr>\n",
       "    <tr>\n",
       "      <th>2007-09-28</th>\n",
       "      <td>85.005806</td>\n",
       "      <td>49.894024</td>\n",
       "      <td>73.510002</td>\n",
       "      <td>116.424271</td>\n",
       "      <td>59.510086</td>\n",
       "      <td>41.114864</td>\n",
       "      <td>58.186901</td>\n",
       "    </tr>\n",
       "    <tr>\n",
       "      <th>...</th>\n",
       "      <td>...</td>\n",
       "      <td>...</td>\n",
       "      <td>...</td>\n",
       "      <td>...</td>\n",
       "      <td>...</td>\n",
       "      <td>...</td>\n",
       "      <td>...</td>\n",
       "    </tr>\n",
       "    <tr>\n",
       "      <th>2020-08-31</th>\n",
       "      <td>91.537003</td>\n",
       "      <td>87.572914</td>\n",
       "      <td>184.830002</td>\n",
       "      <td>346.440552</td>\n",
       "      <td>161.332748</td>\n",
       "      <td>50.920937</td>\n",
       "      <td>175.841446</td>\n",
       "    </tr>\n",
       "    <tr>\n",
       "      <th>2020-09-30</th>\n",
       "      <td>91.516998</td>\n",
       "      <td>87.486649</td>\n",
       "      <td>177.119995</td>\n",
       "      <td>333.468567</td>\n",
       "      <td>162.580505</td>\n",
       "      <td>50.059330</td>\n",
       "      <td>169.620926</td>\n",
       "    </tr>\n",
       "    <tr>\n",
       "      <th>2020-10-30</th>\n",
       "      <td>91.527000</td>\n",
       "      <td>86.999901</td>\n",
       "      <td>176.199997</td>\n",
       "      <td>325.153992</td>\n",
       "      <td>157.076813</td>\n",
       "      <td>49.027382</td>\n",
       "      <td>166.314377</td>\n",
       "    </tr>\n",
       "    <tr>\n",
       "      <th>2020-11-30</th>\n",
       "      <td>91.516998</td>\n",
       "      <td>88.055679</td>\n",
       "      <td>166.669998</td>\n",
       "      <td>360.523224</td>\n",
       "      <td>159.690430</td>\n",
       "      <td>55.209141</td>\n",
       "      <td>185.944611</td>\n",
       "    </tr>\n",
       "    <tr>\n",
       "      <th>2020-12-31</th>\n",
       "      <td>91.519997</td>\n",
       "      <td>88.190002</td>\n",
       "      <td>178.360001</td>\n",
       "      <td>373.880005</td>\n",
       "      <td>157.729996</td>\n",
       "      <td>58.360001</td>\n",
       "      <td>194.639999</td>\n",
       "    </tr>\n",
       "  </tbody>\n",
       "</table>\n",
       "<p>164 rows × 7 columns</p>\n",
       "</div>"
      ],
      "text/plain": [
       "                  BIL        BND         GLD         SPY         TLT  \\\n",
       "Date                                                                   \n",
       "2007-05-31  83.782814  48.574444   65.540001  115.936897   57.035923   \n",
       "2007-06-29  84.148705  48.423214   64.269997  114.241768   56.457874   \n",
       "2007-07-31  84.484917  48.869820   65.790001  110.664864   58.331753   \n",
       "2007-08-31  84.844711  49.594765   66.519997  112.084999   59.374557   \n",
       "2007-09-28  85.005806  49.894024   73.510002  116.424271   59.510086   \n",
       "...               ...        ...         ...         ...         ...   \n",
       "2020-08-31  91.537003  87.572914  184.830002  346.440552  161.332748   \n",
       "2020-09-30  91.516998  87.486649  177.119995  333.468567  162.580505   \n",
       "2020-10-30  91.527000  86.999901  176.199997  325.153992  157.076813   \n",
       "2020-11-30  91.516998  88.055679  166.669998  360.523224  159.690430   \n",
       "2020-12-31  91.519997  88.190002  178.360001  373.880005  157.729996   \n",
       "\n",
       "                  VEU         VTI  \n",
       "Date                               \n",
       "2007-05-31  39.000221   58.269627  \n",
       "2007-06-29  39.261978   57.242474  \n",
       "2007-07-31  38.807369   55.219147  \n",
       "2007-08-31  38.731590   56.031559  \n",
       "2007-09-28  41.114864   58.186901  \n",
       "...               ...         ...  \n",
       "2020-08-31  50.920937  175.841446  \n",
       "2020-09-30  50.059330  169.620926  \n",
       "2020-10-30  49.027382  166.314377  \n",
       "2020-11-30  55.209141  185.944611  \n",
       "2020-12-31  58.360001  194.639999  \n",
       "\n",
       "[164 rows x 7 columns]"
      ]
     },
     "execution_count": 9,
     "metadata": {},
     "output_type": "execute_result"
    }
   ],
   "source": [
    "monthly_prices.set_index('Date', inplace=True)\n",
    "monthly_prices"
   ]
  },
  {
   "cell_type": "markdown",
   "metadata": {},
   "source": [
    "## 1. GEM Portfolio"
   ]
  },
  {
   "cell_type": "code",
   "execution_count": null,
   "metadata": {},
   "outputs": [],
   "source": [
    "gem_prices = pd.DataFrame()\n",
    "for col in monthly_prices.columns:\n",
    "    if col in portfolios['GEM']:\n",
    "        gem_prices[col] = monthly_prices[col]\n",
    "gem_prices"
   ]
  },
  {
   "cell_type": "code",
   "execution_count": null,
   "metadata": {},
   "outputs": [],
   "source": [
    "rank_df = monthly_momentum.rank(axis=1)\n",
    "for col in rank_df.columns:\n",
    "    rank_df[col] = np.where(rank_df[col] > 2, 1, 0)\n",
    "rank_df"
   ]
  },
  {
   "cell_type": "code",
   "execution_count": null,
   "metadata": {},
   "outputs": [],
   "source": [
    "monthly_momentum = gem_prices.copy()\n",
    "monthly_momentum = monthly_momentum.apply(lambda x: x.shift(1)/x.shift(12) - 1, axis=0)\n",
    "monthly_momentum.dropna(inplace=True)\n",
    "monthly_momentum.head(20)"
   ]
  },
  {
   "cell_type": "code",
   "execution_count": null,
   "metadata": {},
   "outputs": [],
   "source": [
    "monthly_gem_returns = gem_prices.pct_change()\n",
    "monthly_gem_returns.dropna(inplace=True)\n",
    "monthly_gem_returns = monthly_gem_returns[rank_df.index[0].strftime('%Y-%m-%d'):]\n",
    "monthly_gem_returns"
   ]
  },
  {
   "cell_type": "code",
   "execution_count": null,
   "metadata": {},
   "outputs": [],
   "source": [
    "port = np.multiply(rank_df, monthly_gem_returns)"
   ]
  },
  {
   "cell_type": "code",
   "execution_count": null,
   "metadata": {},
   "outputs": [],
   "source": [
    "port_returns = port.sum(axis=1)\n",
    "port_returns"
   ]
  },
  {
   "cell_type": "code",
   "execution_count": null,
   "metadata": {},
   "outputs": [],
   "source": [
    "port_cum_returns = np.exp(np.log1p(port_returns).cumsum())\n",
    "port_cum_returns"
   ]
  },
  {
   "cell_type": "markdown",
   "metadata": {},
   "source": [
    "## 2. GBM Portfolio"
   ]
  },
  {
   "cell_type": "code",
   "execution_count": null,
   "metadata": {},
   "outputs": [],
   "source": [
    "gbm_prices = pd.DataFrame()\n",
    "for col in monthly_prices.columns:\n",
    "    if col in portfolios['GBM']:\n",
    "        gbm_prices[col] = monthly_prices[col]\n",
    "gbm_prices"
   ]
  },
  {
   "cell_type": "code",
   "execution_count": null,
   "metadata": {},
   "outputs": [],
   "source": [
    "gbm_momentum = gbm_prices.copy()\n",
    "gbm_momentum = gbm_momentum.apply(lambda x: x.shift(1)/x.shift(12) - 1, axis=0)\n",
    "gbm_momentum.dropna(inplace=True)\n",
    "gbm_momentum"
   ]
  },
  {
   "cell_type": "code",
   "execution_count": null,
   "metadata": {},
   "outputs": [],
   "source": [
    "gbm_rank = gbm_momentum.rank(axis=1)\n",
    "for col in gbm_rank.columns:\n",
    "    gbm_rank[col] = np.where(gbm_rank[col] > 2, 1, 0)\n",
    "gbm_rank"
   ]
  },
  {
   "cell_type": "code",
   "execution_count": null,
   "metadata": {},
   "outputs": [],
   "source": [
    "monthly_gbm_returns = gbm_prices.pct_change()\n",
    "monthly_gbm_returns.dropna(inplace=True)\n",
    "monthly_gbm_returns = monthly_gbm_returns[gbm_rank.index[0].strftime('%Y-%m-%d'):]\n",
    "monthly_gbm_returns"
   ]
  },
  {
   "cell_type": "code",
   "execution_count": null,
   "metadata": {},
   "outputs": [],
   "source": [
    "gbm_sixty = np.multiply(gbm_rank, monthly_gbm_returns)\n",
    "gbm_sixty_returns = gbm_sixty.sum(axis=1)\n",
    "gbm_sixty_returns"
   ]
  },
  {
   "cell_type": "code",
   "execution_count": null,
   "metadata": {},
   "outputs": [],
   "source": [
    "gbm_port = pd.DataFrame()\n",
    "gbm_port['GBM_sixty'] = gbm_sixty_returns\n",
    "gbm_port['GBM_forty'] = monthly_gbm_returns['BND']\n",
    "weight = np.array([0.6, 0.4])\n",
    "gbm_port['port_return'] = gbm_port.dot(weight)\n",
    "gbm_port"
   ]
  },
  {
   "cell_type": "code",
   "execution_count": null,
   "metadata": {},
   "outputs": [],
   "source": [
    "gbm_cum_returns = (1 + gbm_port['port_return']).cumprod()\n",
    "gbm_cum_returns"
   ]
  },
  {
   "cell_type": "markdown",
   "metadata": {},
   "source": [
    "## 3. 60/40 Fixed Portfolio"
   ]
  },
  {
   "cell_type": "code",
   "execution_count": null,
   "metadata": {},
   "outputs": [],
   "source": [
    "sixtyForty = pd.DataFrame()\n",
    "for col in monthly_prices.columns:\n",
    "    if col in portfolios['sixtyForty']:\n",
    "        sixtyForty[col] = monthly_prices[col]\n",
    "sixtyForty"
   ]
  },
  {
   "cell_type": "code",
   "execution_count": null,
   "metadata": {},
   "outputs": [],
   "source": [
    "sixtyForty_returns = sixtyForty.pct_change()\n",
    "sixtyForty_returns = sixtyForty_returns[rank_df.index[0].strftime('%Y-%m-%d'):]\n",
    "sixtyForty_weights = np.array([0.4, 0.6])\n",
    "sixtyForty_returns['port'] = sixtyForty_returns.dot(sixtyForty_weights)\n",
    "sixtyForty_returns"
   ]
  },
  {
   "cell_type": "code",
   "execution_count": null,
   "metadata": {},
   "outputs": [],
   "source": [
    "sixtyForty_cum_returns = np.exp(np.log1p(sixtyForty_returns['port']).cumsum())\n",
    "sixtyForty_cum_returns"
   ]
  },
  {
   "cell_type": "markdown",
   "metadata": {},
   "source": [
    "## 4. S&P 500 Index"
   ]
  },
  {
   "cell_type": "code",
   "execution_count": null,
   "metadata": {},
   "outputs": [],
   "source": [
    "benchmark_prices = monthly_prices['SPY']"
   ]
  },
  {
   "cell_type": "code",
   "execution_count": null,
   "metadata": {},
   "outputs": [],
   "source": [
    "benchmark_returns = benchmark_prices.pct_change()"
   ]
  },
  {
   "cell_type": "code",
   "execution_count": null,
   "metadata": {},
   "outputs": [],
   "source": [
    "benchmark_returns = benchmark_returns[rank_df.index[0].strftime('%Y-%m-%d'):]"
   ]
  },
  {
   "cell_type": "code",
   "execution_count": null,
   "metadata": {},
   "outputs": [],
   "source": [
    "benchmark_cum_returns = np.exp(np.log1p(benchmark_returns).cumsum())\n",
    "benchmark_cum_returns"
   ]
  },
  {
   "cell_type": "markdown",
   "metadata": {},
   "source": [
    "## Combined Cumulative Returns of All Portfolios for Comparison"
   ]
  },
  {
   "cell_type": "code",
   "execution_count": null,
   "metadata": {},
   "outputs": [],
   "source": [
    "combined_df = pd.DataFrame()\n",
    "combined_df['GEM'] = port_cum_returns\n",
    "combined_df['GBM'] = gbm_cum_returns\n",
    "combined_df['Sixty Forty'] = sixtyForty_cum_returns\n",
    "combined_df['benchmark'] = benchmark_cum_returns\n",
    "combined_df.iloc[0] = 1\n",
    "combined_df"
   ]
  },
  {
   "cell_type": "code",
   "execution_count": null,
   "metadata": {},
   "outputs": [],
   "source": [
    "stats_summary = pd.DataFrame(columns = ['Portfolio', 'CAGR (%)', 'MDD (%)', 'CAGR/MDD'])\n",
    "\n",
    "for col in combined_df.columns:\n",
    "    # compute CAGR\n",
    "    cagr = combined_df[col]**(T/len(combined_df[col].index)) - 1\n",
    "    portfolio_cagr = cagr.loc[cagr.index[-1]]\n",
    "\n",
    "    # compute MDD\n",
    "    cumulative_returns = combined_df[col]\n",
    "    previous_peaks = cumulative_returns.cummax()\n",
    "    drawdown = (cumulative_returns - previous_peaks) / previous_peaks\n",
    "    portfolio_mdd = drawdown.min()\n",
    "    \n",
    "    # save CAGR and MDD for each portfolio\n",
    "    \n",
    "    stats_summary = stats_summary.append({'Portfolio': col,\n",
    "                                         'CAGR (%)': portfolio_cagr * 100,\n",
    "                                         'MDD (%)': portfolio_mdd * 100,\n",
    "                                         'CAGR/MDD': abs(portfolio_cagr / portfolio_mdd).round(2)}, ignore_index=True) "
   ]
  },
  {
   "cell_type": "code",
   "execution_count": null,
   "metadata": {},
   "outputs": [],
   "source": [
    "stats_summary.set_index('Portfolio', inplace=True)\n",
    "stats_summary.sort_values('CAGR/MDD', ascending=False, inplace=True)\n",
    "stats_summary"
   ]
  },
  {
   "cell_type": "markdown",
   "metadata": {},
   "source": [
    "# Performance Visualization"
   ]
  },
  {
   "cell_type": "code",
   "execution_count": null,
   "metadata": {},
   "outputs": [],
   "source": [
    "plt.figure(figsize=(15,10))\n",
    "plt.plot(combined_df)\n",
    "plt.legend(combined_df.columns)\n",
    "plt.xlabel('Date')\n",
    "plt.ylabel('Returns')\n",
    "plt.title('Portfolio Performance Comparison (May 2008 - December 2020)')"
   ]
  },
  {
   "cell_type": "code",
   "execution_count": null,
   "metadata": {},
   "outputs": [],
   "source": []
  }
 ],
 "metadata": {
  "kernelspec": {
   "display_name": "Python 3",
   "language": "python",
   "name": "python3"
  },
  "language_info": {
   "codemirror_mode": {
    "name": "ipython",
    "version": 3
   },
   "file_extension": ".py",
   "mimetype": "text/x-python",
   "name": "python",
   "nbconvert_exporter": "python",
   "pygments_lexer": "ipython3",
   "version": "3.7.9"
  }
 },
 "nbformat": 4,
 "nbformat_minor": 4
}
