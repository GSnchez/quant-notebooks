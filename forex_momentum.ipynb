{
 "cells": [
  {
   "cell_type": "code",
   "execution_count": 1,
   "metadata": {},
   "outputs": [],
   "source": [
    "import oandapyV20\n",
    "import oandapyV20.endpoints.trades as trades\n",
    "import oandapyV20.endpoints.instruments as instruments\n",
    "import json\n",
    "import pandas as pd\n",
    "import datetime as dt"
   ]
  },
  {
   "cell_type": "code",
   "execution_count": 2,
   "metadata": {},
   "outputs": [],
   "source": [
    "cols = ['Pair', 'MOMENTUM_SCORE']\n",
    "momentum_scoreboard = pd.DataFrame(columns=cols)\n"
   ]
  },
  {
   "cell_type": "code",
   "execution_count": 3,
   "metadata": {},
   "outputs": [
    {
     "name": "stdout",
     "output_type": "stream",
     "text": [
      "EUR_USD\n",
      "GBP_USD\n",
      "USD_JPY\n",
      "USD_CAD\n",
      "AUD_USD\n",
      "NZD_USD\n"
     ]
    }
   ],
   "source": [
    "client = oandapyV20.API(access_token=\"0ca9619de6d428b6fdbcb4d20ef81268-cca1610e83cde7da5395d4468c2c1fe9\")\n",
    "\n",
    "pairs = ['EUR_USD', 'GBP_USD', 'USD_JPY', 'USD_CAD', 'AUD_USD', 'NZD_USD']\n",
    "\n",
    "for pair in pairs:\n",
    "    cols = ['Date', 'Close']\n",
    "    monthlyPrices = pd.DataFrame(columns=cols)\n",
    "    print(pair)\n",
    "    r = instruments.InstrumentsCandles(instrument=pair,\n",
    "                                   params={\"count\": 3650, \"granularity\": \"D\"})\n",
    "    raw_data = client.request(r)\n",
    "    candles = raw_data['candles']\n",
    "    #print(monthly_candles)\n",
    "    for m in candles:\n",
    "        new_row = {'Date': dt.datetime.strptime(m['time'][:10], '%Y-%m-%d'), \n",
    "                   'Close': float(m['mid']['c'])}\n",
    "        monthlyPrices=monthlyPrices.append(new_row, ignore_index=True)\n",
    "    \n",
    "    #print(monthlyPrices)\n",
    "    \n",
    "    monthlyPrices['BEFORE_1M'] = monthlyPrices.shift(1)['Close']\n",
    "    monthlyPrices['BEFORE_6M'] = monthlyPrices.shift(6)['Close']\n",
    "    monthlyPrices['BEFORE_12M'] = monthlyPrices.shift(12)['Close']\n",
    "    monthlyPrices.dropna(inplace=True)\n",
    "    \n",
    "    #print(monthlyPrices.head())\n",
    "    \n",
    "    for x in monthlyPrices.index:\n",
    "        monthlyPrices.loc[x,'MOMENTUM_1M'] = monthlyPrices.loc[x,'Close'] - monthlyPrices.loc[x,'BEFORE_1M']\n",
    "        monthlyPrices.loc[x,'MOMENTUM_6M'] = monthlyPrices.loc[x,'Close'] - monthlyPrices.loc[x,'BEFORE_6M']\n",
    "        monthlyPrices.loc[x,'MOMENTUM_12M'] = monthlyPrices.loc[x,'Close'] - monthlyPrices.loc[x,'BEFORE_12M']\n",
    "        \n",
    "    for x in monthlyPrices.index:\n",
    "        monthlyPrices.loc[x, 'MOMENTUM_INDEX'] = monthlyPrices.loc[x, 'MOMENTUM_1M'] * 0.5 + monthlyPrices.loc[x, 'MOMENTUM_6M'] * 0.3 + monthlyPrices.loc[x, 'MOMENTUM_12M'] * 0.2\n",
    "    \n",
    "    #print(monthlyPrices.iloc[-1]['MOMENTUM_INDEX'])\n",
    "    momentum_scoreboard = momentum_scoreboard.append({'Pair': pair, 'MOMENTUM_SCORE': monthlyPrices.iloc[-1]['MOMENTUM_INDEX']}, ignore_index=True)\n"
   ]
  },
  {
   "cell_type": "code",
   "execution_count": 4,
   "metadata": {},
   "outputs": [
    {
     "data": {
      "text/html": [
       "<div>\n",
       "<style scoped>\n",
       "    .dataframe tbody tr th:only-of-type {\n",
       "        vertical-align: middle;\n",
       "    }\n",
       "\n",
       "    .dataframe tbody tr th {\n",
       "        vertical-align: top;\n",
       "    }\n",
       "\n",
       "    .dataframe thead th {\n",
       "        text-align: right;\n",
       "    }\n",
       "</style>\n",
       "<table border=\"1\" class=\"dataframe\">\n",
       "  <thead>\n",
       "    <tr style=\"text-align: right;\">\n",
       "      <th></th>\n",
       "      <th>Pair</th>\n",
       "      <th>MOMENTUM_SCORE</th>\n",
       "    </tr>\n",
       "  </thead>\n",
       "  <tbody>\n",
       "    <tr>\n",
       "      <th>0</th>\n",
       "      <td>EUR_USD</td>\n",
       "      <td>0.064082</td>\n",
       "    </tr>\n",
       "    <tr>\n",
       "      <th>1</th>\n",
       "      <td>GBP_USD</td>\n",
       "      <td>0.063120</td>\n",
       "    </tr>\n",
       "    <tr>\n",
       "      <th>2</th>\n",
       "      <td>USD_JPY</td>\n",
       "      <td>-2.935500</td>\n",
       "    </tr>\n",
       "    <tr>\n",
       "      <th>3</th>\n",
       "      <td>USD_CAD</td>\n",
       "      <td>-0.044084</td>\n",
       "    </tr>\n",
       "    <tr>\n",
       "      <th>4</th>\n",
       "      <td>AUD_USD</td>\n",
       "      <td>0.054640</td>\n",
       "    </tr>\n",
       "    <tr>\n",
       "      <th>5</th>\n",
       "      <td>NZD_USD</td>\n",
       "      <td>0.039210</td>\n",
       "    </tr>\n",
       "  </tbody>\n",
       "</table>\n",
       "</div>"
      ],
      "text/plain": [
       "      Pair  MOMENTUM_SCORE\n",
       "0  EUR_USD        0.064082\n",
       "1  GBP_USD        0.063120\n",
       "2  USD_JPY       -2.935500\n",
       "3  USD_CAD       -0.044084\n",
       "4  AUD_USD        0.054640\n",
       "5  NZD_USD        0.039210"
      ]
     },
     "execution_count": 4,
     "metadata": {},
     "output_type": "execute_result"
    }
   ],
   "source": [
    "momentum_scoreboard"
   ]
  },
  {
   "cell_type": "code",
   "execution_count": 5,
   "metadata": {},
   "outputs": [],
   "source": [
    "momentum_scoreboard.set_index('Pair', inplace=True)"
   ]
  },
  {
   "cell_type": "code",
   "execution_count": 6,
   "metadata": {},
   "outputs": [
    {
     "data": {
      "text/html": [
       "<div>\n",
       "<style scoped>\n",
       "    .dataframe tbody tr th:only-of-type {\n",
       "        vertical-align: middle;\n",
       "    }\n",
       "\n",
       "    .dataframe tbody tr th {\n",
       "        vertical-align: top;\n",
       "    }\n",
       "\n",
       "    .dataframe thead th {\n",
       "        text-align: right;\n",
       "    }\n",
       "</style>\n",
       "<table border=\"1\" class=\"dataframe\">\n",
       "  <thead>\n",
       "    <tr style=\"text-align: right;\">\n",
       "      <th></th>\n",
       "      <th>MOMENTUM_SCORE</th>\n",
       "    </tr>\n",
       "    <tr>\n",
       "      <th>Pair</th>\n",
       "      <th></th>\n",
       "    </tr>\n",
       "  </thead>\n",
       "  <tbody>\n",
       "    <tr>\n",
       "      <th>EUR_USD</th>\n",
       "      <td>0.064082</td>\n",
       "    </tr>\n",
       "    <tr>\n",
       "      <th>GBP_USD</th>\n",
       "      <td>0.063120</td>\n",
       "    </tr>\n",
       "    <tr>\n",
       "      <th>USD_JPY</th>\n",
       "      <td>-2.935500</td>\n",
       "    </tr>\n",
       "    <tr>\n",
       "      <th>USD_CAD</th>\n",
       "      <td>-0.044084</td>\n",
       "    </tr>\n",
       "    <tr>\n",
       "      <th>AUD_USD</th>\n",
       "      <td>0.054640</td>\n",
       "    </tr>\n",
       "    <tr>\n",
       "      <th>NZD_USD</th>\n",
       "      <td>0.039210</td>\n",
       "    </tr>\n",
       "  </tbody>\n",
       "</table>\n",
       "</div>"
      ],
      "text/plain": [
       "         MOMENTUM_SCORE\n",
       "Pair                   \n",
       "EUR_USD        0.064082\n",
       "GBP_USD        0.063120\n",
       "USD_JPY       -2.935500\n",
       "USD_CAD       -0.044084\n",
       "AUD_USD        0.054640\n",
       "NZD_USD        0.039210"
      ]
     },
     "execution_count": 6,
     "metadata": {},
     "output_type": "execute_result"
    }
   ],
   "source": [
    "momentum_scoreboard"
   ]
  },
  {
   "cell_type": "code",
   "execution_count": 7,
   "metadata": {},
   "outputs": [
    {
     "data": {
      "text/html": [
       "<div>\n",
       "<style scoped>\n",
       "    .dataframe tbody tr th:only-of-type {\n",
       "        vertical-align: middle;\n",
       "    }\n",
       "\n",
       "    .dataframe tbody tr th {\n",
       "        vertical-align: top;\n",
       "    }\n",
       "\n",
       "    .dataframe thead th {\n",
       "        text-align: right;\n",
       "    }\n",
       "</style>\n",
       "<table border=\"1\" class=\"dataframe\">\n",
       "  <thead>\n",
       "    <tr style=\"text-align: right;\">\n",
       "      <th></th>\n",
       "      <th>MOMENTUM_SCORE</th>\n",
       "    </tr>\n",
       "    <tr>\n",
       "      <th>Pair</th>\n",
       "      <th></th>\n",
       "    </tr>\n",
       "  </thead>\n",
       "  <tbody>\n",
       "    <tr>\n",
       "      <th>USD_JPY</th>\n",
       "      <td>-2.935500</td>\n",
       "    </tr>\n",
       "    <tr>\n",
       "      <th>USD_CAD</th>\n",
       "      <td>-0.044084</td>\n",
       "    </tr>\n",
       "    <tr>\n",
       "      <th>NZD_USD</th>\n",
       "      <td>0.039210</td>\n",
       "    </tr>\n",
       "    <tr>\n",
       "      <th>AUD_USD</th>\n",
       "      <td>0.054640</td>\n",
       "    </tr>\n",
       "    <tr>\n",
       "      <th>GBP_USD</th>\n",
       "      <td>0.063120</td>\n",
       "    </tr>\n",
       "    <tr>\n",
       "      <th>EUR_USD</th>\n",
       "      <td>0.064082</td>\n",
       "    </tr>\n",
       "  </tbody>\n",
       "</table>\n",
       "</div>"
      ],
      "text/plain": [
       "         MOMENTUM_SCORE\n",
       "Pair                   \n",
       "USD_JPY       -2.935500\n",
       "USD_CAD       -0.044084\n",
       "NZD_USD        0.039210\n",
       "AUD_USD        0.054640\n",
       "GBP_USD        0.063120\n",
       "EUR_USD        0.064082"
      ]
     },
     "execution_count": 7,
     "metadata": {},
     "output_type": "execute_result"
    }
   ],
   "source": [
    "momentum_scoreboard.sort_values(by='MOMENTUM_SCORE')"
   ]
  },
  {
   "cell_type": "code",
   "execution_count": null,
   "metadata": {},
   "outputs": [],
   "source": []
  }
 ],
 "metadata": {
  "kernelspec": {
   "display_name": "Python 3",
   "language": "python",
   "name": "python3"
  },
  "language_info": {
   "codemirror_mode": {
    "name": "ipython",
    "version": 3
   },
   "file_extension": ".py",
   "mimetype": "text/x-python",
   "name": "python",
   "nbconvert_exporter": "python",
   "pygments_lexer": "ipython3",
   "version": "3.7.9"
  }
 },
 "nbformat": 4,
 "nbformat_minor": 4
}
