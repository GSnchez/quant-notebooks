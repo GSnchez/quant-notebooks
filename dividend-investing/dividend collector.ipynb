{
 "cells": [
  {
   "cell_type": "markdown",
   "metadata": {},
   "source": [
    "# Dividend Investing Model"
   ]
  },
  {
   "cell_type": "markdown",
   "metadata": {},
   "source": [
    "## Motivation"
   ]
  },
  {
   "cell_type": "markdown",
   "metadata": {},
   "source": [
    "Is it possible to earn $1000 every month without doing any work? How good would that be? I think earning free money is everyone's dream, but at first it looks quite difficult to achieve. However, there are actually ways to achieve making any amount of money every month without doing anything. I will introduce one of the ways to do that which is dividend investing."
   ]
  },
  {
   "cell_type": "markdown",
   "metadata": {},
   "source": [
    "## What is Dividend Investing?"
   ]
  },
  {
   "cell_type": "markdown",
   "metadata": {},
   "source": [
    "In the U.S. stock market, many healthy and mature companies pay cash to its shareholders as dividend every certain period. Periods can be monthly, quarterly or every 6 months or every year. The good thing is investors who own shares of those companies don't have to do anything to collect periodic dividends. Cash payments just deposit directly to shareholders' accounts. All shareholders have to do to collect dividends is just buy and hold the shares of the company which pay out dividends. As shareholders, we can do whatever we want with the dividends. we can pay monthly expenses like phone bills or rents, go shopping to buy whatever we want or buy more shares to collect more dividends later."
   ]
  },
  {
   "cell_type": "markdown",
   "metadata": {},
   "source": [
    "## What Companies Should We Buy and Hold?"
   ]
  },
  {
   "cell_type": "markdown",
   "metadata": {},
   "source": [
    "Dividend Investing doesn't involve frequent buy and sell activities. It's more like collecting good companies' shares for a very long time. The most important question is find out good companies to buy, and when we should buy them. Should we buy them when their prices are really expensive? No. We should buy them when their shares are traded at discount. How do we determine when prices are cheap? That's what we are going to find out in this notebook."
   ]
  },
  {
   "cell_type": "markdown",
   "metadata": {},
   "source": [
    "The safest place to get started is learn from history. There is a group of good companies called Dividend Kings which have increased their annual dividends more than 50 years! Companies like 3M, Coca-Cola and Johnson & Johnson are in that group. We will start analyzing some of the familiar companies in that group. We will further expand the pool of companies we can invest as we build our model from here.\n"
   ]
  },
  {
   "cell_type": "markdown",
   "metadata": {},
   "source": [
    "## How to Evaluate Good Companies?"
   ]
  },
  {
   "cell_type": "markdown",
   "metadata": {},
   "source": [
    "We will use first select companies we are familiar with strong global brands. Once we select a group of companies we want to investigate further, we will use Dividend Yield factor to determine whether the yield is attractive to invest in. "
   ]
  },
  {
   "cell_type": "markdown",
   "metadata": {},
   "source": [
    "$$\\text{Dividend Yield} = \\frac{\\text{Annual Dividend}}{\\text{Stock Price}}$$"
   ]
  },
  {
   "cell_type": "markdown",
   "metadata": {},
   "source": [
    "The numerator which is annual dividend doesn't fluctuate much, but stock price which is the denominator of Dividend Yield fluctuates depending on market environment. Since our goal is to collect as much annual dividend as possible from each stock, it's always good to buy stocks when they are traded at discount. This is why investors who really make lots of money buy VALUABLE stocks when the market is going down and people are selling their shares.\n",
    "\n",
    "The strong assumption here is that the companies we are intersted in buying must be valuable and worthy holding for a very long time."
   ]
  },
  {
   "cell_type": "code",
   "execution_count": 2,
   "metadata": {},
   "outputs": [],
   "source": [
    "import requests\n",
    "import pandas as pd\n",
    "import pandas_datareader.data as web\n",
    "import datetime as dt"
   ]
  },
  {
   "cell_type": "code",
   "execution_count": 3,
   "metadata": {},
   "outputs": [],
   "source": [
    "df = pd.read_csv('div_kings_2020.csv')"
   ]
  },
  {
   "cell_type": "code",
   "execution_count": 4,
   "metadata": {},
   "outputs": [],
   "source": [
    "def clear_why(s):\n",
    "    if '?' in s:\n",
    "        s = s[:s.index('?')]\n",
    "    return s"
   ]
  },
  {
   "cell_type": "code",
   "execution_count": 5,
   "metadata": {},
   "outputs": [],
   "source": [
    "consumer_defensive = df[(df['Exchange'] == 'NYSE')\n",
    "                        & (df['Sector'] == 'Consumer defensive')]"
   ]
  },
  {
   "cell_type": "code",
   "execution_count": 6,
   "metadata": {},
   "outputs": [
    {
     "name": "stderr",
     "output_type": "stream",
     "text": [
      "<ipython-input-6-8dda0092fb04>:2: SettingWithCopyWarning: \n",
      "A value is trying to be set on a copy of a slice from a DataFrame.\n",
      "Try using .loc[row_indexer,col_indexer] = value instead\n",
      "\n",
      "See the caveats in the documentation: https://pandas.pydata.org/pandas-docs/stable/user_guide/indexing.html#returning-a-view-versus-a-copy\n",
      "  consumer_defensive['Company'] = consumer_defensive['Company'].apply(clear_why)\n",
      "<ipython-input-6-8dda0092fb04>:3: SettingWithCopyWarning: \n",
      "A value is trying to be set on a copy of a slice from a DataFrame.\n",
      "Try using .loc[row_indexer,col_indexer] = value instead\n",
      "\n",
      "See the caveats in the documentation: https://pandas.pydata.org/pandas-docs/stable/user_guide/indexing.html#returning-a-view-versus-a-copy\n",
      "  consumer_defensive['Consecutive Years of Dividend Increases'] = consumer_defensive['Consecutive Years of Dividend Increases'].apply(clear_why)\n"
     ]
    },
    {
     "data": {
      "text/html": [
       "<div>\n",
       "<style scoped>\n",
       "    .dataframe tbody tr th:only-of-type {\n",
       "        vertical-align: middle;\n",
       "    }\n",
       "\n",
       "    .dataframe tbody tr th {\n",
       "        vertical-align: top;\n",
       "    }\n",
       "\n",
       "    .dataframe thead th {\n",
       "        text-align: right;\n",
       "    }\n",
       "</style>\n",
       "<table border=\"1\" class=\"dataframe\">\n",
       "  <thead>\n",
       "    <tr style=\"text-align: right;\">\n",
       "      <th></th>\n",
       "      <th>Company</th>\n",
       "      <th>Ticker</th>\n",
       "      <th>Exchange</th>\n",
       "      <th>Sector</th>\n",
       "      <th>Consecutive Years of Dividend Increases</th>\n",
       "    </tr>\n",
       "  </thead>\n",
       "  <tbody>\n",
       "    <tr>\n",
       "      <th>5</th>\n",
       "      <td>Proctor &amp; Gamble</td>\n",
       "      <td>PG</td>\n",
       "      <td>NYSE</td>\n",
       "      <td>Consumer defensive</td>\n",
       "      <td>64</td>\n",
       "    </tr>\n",
       "    <tr>\n",
       "      <th>10</th>\n",
       "      <td>Coca-Cola</td>\n",
       "      <td>KO</td>\n",
       "      <td>NYSE</td>\n",
       "      <td>Consumer defensive</td>\n",
       "      <td>58</td>\n",
       "    </tr>\n",
       "    <tr>\n",
       "      <th>13</th>\n",
       "      <td>Colgate-Palmolive</td>\n",
       "      <td>CL</td>\n",
       "      <td>NYSE</td>\n",
       "      <td>Consumer defensive</td>\n",
       "      <td>57</td>\n",
       "    </tr>\n",
       "    <tr>\n",
       "      <th>15</th>\n",
       "      <td>Hormel Foods</td>\n",
       "      <td>HRL</td>\n",
       "      <td>NYSE</td>\n",
       "      <td>Consumer defensive</td>\n",
       "      <td>55</td>\n",
       "    </tr>\n",
       "    <tr>\n",
       "      <th>23</th>\n",
       "      <td>Sysco</td>\n",
       "      <td>SYY</td>\n",
       "      <td>NYSE</td>\n",
       "      <td>Consumer defensive</td>\n",
       "      <td>52</td>\n",
       "    </tr>\n",
       "    <tr>\n",
       "      <th>24</th>\n",
       "      <td>Altria Group</td>\n",
       "      <td>MO</td>\n",
       "      <td>NYSE</td>\n",
       "      <td>Consumer defensive</td>\n",
       "      <td>51</td>\n",
       "    </tr>\n",
       "  </tbody>\n",
       "</table>\n",
       "</div>"
      ],
      "text/plain": [
       "              Company Ticker Exchange              Sector  \\\n",
       "5    Proctor & Gamble     PG     NYSE  Consumer defensive   \n",
       "10          Coca-Cola     KO     NYSE  Consumer defensive   \n",
       "13  Colgate-Palmolive     CL     NYSE  Consumer defensive   \n",
       "15       Hormel Foods    HRL     NYSE  Consumer defensive   \n",
       "23              Sysco    SYY     NYSE  Consumer defensive   \n",
       "24       Altria Group     MO     NYSE  Consumer defensive   \n",
       "\n",
       "   Consecutive Years of Dividend Increases  \n",
       "5                                       64  \n",
       "10                                      58  \n",
       "13                                      57  \n",
       "15                                      55  \n",
       "23                                      52  \n",
       "24                                      51  "
      ]
     },
     "execution_count": 6,
     "metadata": {},
     "output_type": "execute_result"
    }
   ],
   "source": [
    "consumer_defensive = df[(df['Exchange'] == 'NYSE')\n",
    "                        & (df['Sector'] == 'Consumer defensive')]\n",
    "consumer_defensive['Company'] = consumer_defensive['Company'].apply(clear_why)\n",
    "consumer_defensive[\n",
    "    'Consecutive Years of Dividend Increases'] = consumer_defensive[\n",
    "        'Consecutive Years of Dividend Increases'].apply(clear_why)\n",
    "consumer_defensive"
   ]
  },
  {
   "cell_type": "markdown",
   "metadata": {},
   "source": [
    "## Get dividend yield of each stock"
   ]
  },
  {
   "cell_type": "code",
   "execution_count": 23,
   "metadata": {},
   "outputs": [],
   "source": [
    "import requests\n",
    "\n",
    "companyData = {}\n",
    "\n",
    "demo = '0e7ffe0a59b049fe7fae7e8ab2296664'\n",
    "\n",
    "for ticker in consumer_defensive['Ticker']:\n",
    "    try:\n",
    "        companyProfile = requests.get(\n",
    "            f'https://financialmodelingprep.com/api/v3/profile/{ticker}?apikey={demo}'\n",
    "        )\n",
    "\n",
    "        companyProfile = companyProfile.json()\n",
    "        price = companyProfile[0]['price']\n",
    "        marketCapitalization = companyProfile[0]['mktCap']\n",
    "        name = companyProfile[0]['companyName']\n",
    "        exchange = companyProfile[0]['exchange']\n",
    "        div = companyProfile[0]['lastDiv']\n",
    "\n",
    "        companyData[ticker] = {}\n",
    "        companyData[ticker]['companyName'] = name\n",
    "        companyData[ticker]['exchange'] = exchange\n",
    "        companyData[ticker][\n",
    "            'marketCap_in_B'] = marketCapitalization / 1000000000\n",
    "        companyData[ticker]['latestPrice'] = price\n",
    "        companyData[ticker]['latestDividend'] = div\n",
    "\n",
    "        financialRatios = requests.get(\n",
    "            f'https://financialmodelingprep.com/api/v3/ratios-ttm/{ticker}?apikey={demo}'\n",
    "        )\n",
    "\n",
    "        financialRatios = financialRatios.json()\n",
    "\n",
    "        companyData[ticker]['dividendYieldPercent'] = financialRatios[0][\n",
    "            \"dividendYielPercentageTTM\"]\n",
    "        companyData[ticker]['PER'] = financialRatios[0]['peRatioTTM']\n",
    "        companyData[ticker]['ROE'] = financialRatios[0]['returnOnEquityTTM']\n",
    "\n",
    "    except:\n",
    "        pass"
   ]
  },
  {
   "cell_type": "code",
   "execution_count": 24,
   "metadata": {},
   "outputs": [
    {
     "data": {
      "text/plain": [
       "{'PG': {'companyName': 'Procter & Gamble Co',\n",
       "  'exchange': 'New York Stock Exchange',\n",
       "  'marketCap_in_B': 316.40404,\n",
       "  'latestPrice': 128.49,\n",
       "  'latestDividend': 3.164,\n",
       "  'dividendYieldPercent': 2.4619866613857933,\n",
       "  'PER': 23.376743076465686,\n",
       "  'ROE': 0.2874162014071937},\n",
       " 'KO': {'companyName': 'Coca-Cola Co',\n",
       "  'exchange': 'New York Stock Exchange',\n",
       "  'marketCap_in_B': 225.18299,\n",
       "  'latestPrice': 52.255,\n",
       "  'latestDividend': 2.06,\n",
       "  'dividendYieldPercent': 3.9418293149636434,\n",
       "  'PER': 28.959878662708146,\n",
       "  'ROE': 0.40141976268200424},\n",
       " 'CL': {'companyName': 'Colgate-Palmolive Co',\n",
       "  'exchange': 'New York Stock Exchange',\n",
       "  'marketCap_in_B': 65.411478,\n",
       "  'latestPrice': 77.085,\n",
       "  'latestDividend': 1.76,\n",
       "  'dividendYieldPercent': 2.282749675745785,\n",
       "  'PER': 24.434549165120593,\n",
       "  'ROE': 3.6271870794078063},\n",
       " 'HRL': {'companyName': 'Hormel Foods Corp',\n",
       "  'exchange': 'New York Stock Exchange',\n",
       "  'marketCap_in_B': 26.0243292,\n",
       "  'latestPrice': 48.18,\n",
       "  'latestDividend': 0.9435,\n",
       "  'dividendYieldPercent': 1.9582814445828145,\n",
       "  'PER': 29.69064275794958,\n",
       "  'ROE': 0.13543532242877107},\n",
       " 'SYY': {'companyName': 'Sysco Corp',\n",
       "  'exchange': 'New York Stock Exchange',\n",
       "  'marketCap_in_B': 41.769566,\n",
       "  'latestPrice': 81.835,\n",
       "  'latestDividend': 1.8,\n",
       "  'dividendYieldPercent': 2.199547870715464,\n",
       "  'PER': -147.5794193734079,\n",
       "  'ROE': -0.19754569494371668},\n",
       " 'MO': {'companyName': 'Altria Group Inc',\n",
       "  'exchange': 'New York Stock Exchange',\n",
       "  'marketCap_in_B': 86.298976,\n",
       "  'latestPrice': 46.43,\n",
       "  'latestDividend': 3.4,\n",
       "  'dividendYieldPercent': 7.322851604566014,\n",
       "  'PER': 19.322446832325944,\n",
       "  'ROE': 1.5734413525889397}}"
      ]
     },
     "execution_count": 24,
     "metadata": {},
     "output_type": "execute_result"
    }
   ],
   "source": [
    "companyData"
   ]
  },
  {
   "cell_type": "code",
   "execution_count": 29,
   "metadata": {},
   "outputs": [
    {
     "data": {
      "text/html": [
       "<div>\n",
       "<style scoped>\n",
       "    .dataframe tbody tr th:only-of-type {\n",
       "        vertical-align: middle;\n",
       "    }\n",
       "\n",
       "    .dataframe tbody tr th {\n",
       "        vertical-align: top;\n",
       "    }\n",
       "\n",
       "    .dataframe thead th {\n",
       "        text-align: right;\n",
       "    }\n",
       "</style>\n",
       "<table border=\"1\" class=\"dataframe\">\n",
       "  <thead>\n",
       "    <tr style=\"text-align: right;\">\n",
       "      <th></th>\n",
       "      <th>companyName</th>\n",
       "      <th>exchange</th>\n",
       "      <th>marketCap_in_B</th>\n",
       "      <th>latestPrice</th>\n",
       "      <th>latestDividend</th>\n",
       "      <th>dividendYieldPercent</th>\n",
       "      <th>PER</th>\n",
       "      <th>ROE</th>\n",
       "    </tr>\n",
       "  </thead>\n",
       "  <tbody>\n",
       "    <tr>\n",
       "      <th>MO</th>\n",
       "      <td>Altria Group Inc</td>\n",
       "      <td>New York Stock Exchange</td>\n",
       "      <td>86.298976</td>\n",
       "      <td>46.430</td>\n",
       "      <td>3.4000</td>\n",
       "      <td>7.322852</td>\n",
       "      <td>19.322447</td>\n",
       "      <td>1.573441</td>\n",
       "    </tr>\n",
       "    <tr>\n",
       "      <th>KO</th>\n",
       "      <td>Coca-Cola Co</td>\n",
       "      <td>New York Stock Exchange</td>\n",
       "      <td>225.182990</td>\n",
       "      <td>52.255</td>\n",
       "      <td>2.0600</td>\n",
       "      <td>3.941829</td>\n",
       "      <td>28.959879</td>\n",
       "      <td>0.401420</td>\n",
       "    </tr>\n",
       "    <tr>\n",
       "      <th>PG</th>\n",
       "      <td>Procter &amp; Gamble Co</td>\n",
       "      <td>New York Stock Exchange</td>\n",
       "      <td>316.404040</td>\n",
       "      <td>128.490</td>\n",
       "      <td>3.1640</td>\n",
       "      <td>2.461987</td>\n",
       "      <td>23.376743</td>\n",
       "      <td>0.287416</td>\n",
       "    </tr>\n",
       "    <tr>\n",
       "      <th>CL</th>\n",
       "      <td>Colgate-Palmolive Co</td>\n",
       "      <td>New York Stock Exchange</td>\n",
       "      <td>65.411478</td>\n",
       "      <td>77.085</td>\n",
       "      <td>1.7600</td>\n",
       "      <td>2.282750</td>\n",
       "      <td>24.434549</td>\n",
       "      <td>3.627187</td>\n",
       "    </tr>\n",
       "    <tr>\n",
       "      <th>SYY</th>\n",
       "      <td>Sysco Corp</td>\n",
       "      <td>New York Stock Exchange</td>\n",
       "      <td>41.769566</td>\n",
       "      <td>81.835</td>\n",
       "      <td>1.8000</td>\n",
       "      <td>2.199548</td>\n",
       "      <td>-147.579419</td>\n",
       "      <td>-0.197546</td>\n",
       "    </tr>\n",
       "    <tr>\n",
       "      <th>HRL</th>\n",
       "      <td>Hormel Foods Corp</td>\n",
       "      <td>New York Stock Exchange</td>\n",
       "      <td>26.024329</td>\n",
       "      <td>48.180</td>\n",
       "      <td>0.9435</td>\n",
       "      <td>1.958281</td>\n",
       "      <td>29.690643</td>\n",
       "      <td>0.135435</td>\n",
       "    </tr>\n",
       "  </tbody>\n",
       "</table>\n",
       "</div>"
      ],
      "text/plain": [
       "              companyName                 exchange  marketCap_in_B  \\\n",
       "MO       Altria Group Inc  New York Stock Exchange       86.298976   \n",
       "KO           Coca-Cola Co  New York Stock Exchange      225.182990   \n",
       "PG    Procter & Gamble Co  New York Stock Exchange      316.404040   \n",
       "CL   Colgate-Palmolive Co  New York Stock Exchange       65.411478   \n",
       "SYY            Sysco Corp  New York Stock Exchange       41.769566   \n",
       "HRL     Hormel Foods Corp  New York Stock Exchange       26.024329   \n",
       "\n",
       "     latestPrice  latestDividend  dividendYieldPercent         PER       ROE  \n",
       "MO        46.430          3.4000              7.322852   19.322447  1.573441  \n",
       "KO        52.255          2.0600              3.941829   28.959879  0.401420  \n",
       "PG       128.490          3.1640              2.461987   23.376743  0.287416  \n",
       "CL        77.085          1.7600              2.282750   24.434549  3.627187  \n",
       "SYY       81.835          1.8000              2.199548 -147.579419 -0.197546  \n",
       "HRL       48.180          0.9435              1.958281   29.690643  0.135435  "
      ]
     },
     "execution_count": 29,
     "metadata": {},
     "output_type": "execute_result"
    }
   ],
   "source": [
    "df = pd.DataFrame.from_dict(companyData, orient='index')\n",
    "df = df.sort_values(['dividendYieldPercent'], ascending=False)\n",
    "df"
   ]
  },
  {
   "cell_type": "code",
   "execution_count": null,
   "metadata": {},
   "outputs": [],
   "source": []
  },
  {
   "cell_type": "code",
   "execution_count": null,
   "metadata": {},
   "outputs": [],
   "source": []
  },
  {
   "cell_type": "markdown",
   "metadata": {},
   "source": [
    "## How Much Dividends Have We Collected?"
   ]
  },
  {
   "cell_type": "code",
   "execution_count": null,
   "metadata": {},
   "outputs": [],
   "source": []
  }
 ],
 "metadata": {
  "kernelspec": {
   "display_name": "Python 3",
   "language": "python",
   "name": "python3"
  },
  "language_info": {
   "codemirror_mode": {
    "name": "ipython",
    "version": 3
   },
   "file_extension": ".py",
   "mimetype": "text/x-python",
   "name": "python",
   "nbconvert_exporter": "python",
   "pygments_lexer": "ipython3",
   "version": "3.8.5"
  },
  "toc": {
   "base_numbering": 1,
   "nav_menu": {},
   "number_sections": false,
   "sideBar": true,
   "skip_h1_title": false,
   "title_cell": "Table of Contents",
   "title_sidebar": "Contents",
   "toc_cell": false,
   "toc_position": {},
   "toc_section_display": true,
   "toc_window_display": true
  },
  "varInspector": {
   "cols": {
    "lenName": 16,
    "lenType": 16,
    "lenVar": 40
   },
   "kernels_config": {
    "python": {
     "delete_cmd_postfix": "",
     "delete_cmd_prefix": "del ",
     "library": "var_list.py",
     "varRefreshCmd": "print(var_dic_list())"
    },
    "r": {
     "delete_cmd_postfix": ") ",
     "delete_cmd_prefix": "rm(",
     "library": "var_list.r",
     "varRefreshCmd": "cat(var_dic_list()) "
    }
   },
   "types_to_exclude": [
    "module",
    "function",
    "builtin_function_or_method",
    "instance",
    "_Feature"
   ],
   "window_display": false
  }
 },
 "nbformat": 4,
 "nbformat_minor": 4
}
