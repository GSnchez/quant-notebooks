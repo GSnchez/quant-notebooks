{
 "cells": [
  {
   "cell_type": "markdown",
   "metadata": {},
   "source": [
    "# Dividend Aristocrats"
   ]
  },
  {
   "cell_type": "markdown",
   "metadata": {},
   "source": [
    "In this notebook, I am going to generate a list of companies called Dividend Aristocrats. There are some requirements for companies to be selected in the group of Dividend Aristocrats, I will make the process simple by selecting companies in S&P 500 which have paid out dividends at least 25 years. I can add more requirements on top of the threshold of 25 years."
   ]
  },
  {
   "cell_type": "markdown",
   "metadata": {},
   "source": [
    "## Get Stock Symbols from S&P 500"
   ]
  },
  {
   "cell_type": "code",
   "execution_count": 24,
   "metadata": {},
   "outputs": [],
   "source": [
    "import yfinance as yf\n",
    "import pandas as pd\n",
    "import datetime as dt"
   ]
  },
  {
   "cell_type": "code",
   "execution_count": 13,
   "metadata": {},
   "outputs": [],
   "source": [
    "data = pd.read_html('https://en.wikipedia.org/wiki/List_of_S%26P_500_companies')"
   ]
  },
  {
   "cell_type": "code",
   "execution_count": 14,
   "metadata": {},
   "outputs": [
    {
     "data": {
      "text/html": [
       "<div>\n",
       "<style scoped>\n",
       "    .dataframe tbody tr th:only-of-type {\n",
       "        vertical-align: middle;\n",
       "    }\n",
       "\n",
       "    .dataframe tbody tr th {\n",
       "        vertical-align: top;\n",
       "    }\n",
       "\n",
       "    .dataframe thead th {\n",
       "        text-align: right;\n",
       "    }\n",
       "</style>\n",
       "<table border=\"1\" class=\"dataframe\">\n",
       "  <thead>\n",
       "    <tr style=\"text-align: right;\">\n",
       "      <th></th>\n",
       "      <th>Symbol</th>\n",
       "      <th>Security</th>\n",
       "      <th>GICS Sector</th>\n",
       "      <th>GICS Sub-Industry</th>\n",
       "      <th>Date first added</th>\n",
       "    </tr>\n",
       "  </thead>\n",
       "  <tbody>\n",
       "    <tr>\n",
       "      <th>0</th>\n",
       "      <td>MMM</td>\n",
       "      <td>3M Company</td>\n",
       "      <td>Industrials</td>\n",
       "      <td>Industrial Conglomerates</td>\n",
       "      <td>1976-08-09</td>\n",
       "    </tr>\n",
       "    <tr>\n",
       "      <th>1</th>\n",
       "      <td>ABT</td>\n",
       "      <td>Abbott Laboratories</td>\n",
       "      <td>Health Care</td>\n",
       "      <td>Health Care Equipment</td>\n",
       "      <td>1964-03-31</td>\n",
       "    </tr>\n",
       "    <tr>\n",
       "      <th>2</th>\n",
       "      <td>ABBV</td>\n",
       "      <td>AbbVie Inc.</td>\n",
       "      <td>Health Care</td>\n",
       "      <td>Pharmaceuticals</td>\n",
       "      <td>2012-12-31</td>\n",
       "    </tr>\n",
       "    <tr>\n",
       "      <th>3</th>\n",
       "      <td>ABMD</td>\n",
       "      <td>Abiomed</td>\n",
       "      <td>Health Care</td>\n",
       "      <td>Health Care Equipment</td>\n",
       "      <td>2018-05-31</td>\n",
       "    </tr>\n",
       "    <tr>\n",
       "      <th>4</th>\n",
       "      <td>ACN</td>\n",
       "      <td>Accenture</td>\n",
       "      <td>Information Technology</td>\n",
       "      <td>IT Consulting &amp; Other Services</td>\n",
       "      <td>2011-07-06</td>\n",
       "    </tr>\n",
       "    <tr>\n",
       "      <th>5</th>\n",
       "      <td>ATVI</td>\n",
       "      <td>Activision Blizzard</td>\n",
       "      <td>Communication Services</td>\n",
       "      <td>Interactive Home Entertainment</td>\n",
       "      <td>2015-08-31</td>\n",
       "    </tr>\n",
       "    <tr>\n",
       "      <th>6</th>\n",
       "      <td>ADBE</td>\n",
       "      <td>Adobe Inc.</td>\n",
       "      <td>Information Technology</td>\n",
       "      <td>Application Software</td>\n",
       "      <td>1997-05-05</td>\n",
       "    </tr>\n",
       "    <tr>\n",
       "      <th>7</th>\n",
       "      <td>AMD</td>\n",
       "      <td>Advanced Micro Devices</td>\n",
       "      <td>Information Technology</td>\n",
       "      <td>Semiconductors</td>\n",
       "      <td>2017-03-20</td>\n",
       "    </tr>\n",
       "    <tr>\n",
       "      <th>8</th>\n",
       "      <td>AAP</td>\n",
       "      <td>Advance Auto Parts</td>\n",
       "      <td>Consumer Discretionary</td>\n",
       "      <td>Automotive Retail</td>\n",
       "      <td>2015-07-09</td>\n",
       "    </tr>\n",
       "    <tr>\n",
       "      <th>9</th>\n",
       "      <td>AES</td>\n",
       "      <td>AES Corp</td>\n",
       "      <td>Utilities</td>\n",
       "      <td>Independent Power Producers &amp; Energy Traders</td>\n",
       "      <td>1998-10-02</td>\n",
       "    </tr>\n",
       "  </tbody>\n",
       "</table>\n",
       "</div>"
      ],
      "text/plain": [
       "  Symbol                Security             GICS Sector  \\\n",
       "0    MMM              3M Company             Industrials   \n",
       "1    ABT     Abbott Laboratories             Health Care   \n",
       "2   ABBV             AbbVie Inc.             Health Care   \n",
       "3   ABMD                 Abiomed             Health Care   \n",
       "4    ACN               Accenture  Information Technology   \n",
       "5   ATVI     Activision Blizzard  Communication Services   \n",
       "6   ADBE              Adobe Inc.  Information Technology   \n",
       "7    AMD  Advanced Micro Devices  Information Technology   \n",
       "8    AAP      Advance Auto Parts  Consumer Discretionary   \n",
       "9    AES                AES Corp               Utilities   \n",
       "\n",
       "                              GICS Sub-Industry Date first added  \n",
       "0                      Industrial Conglomerates       1976-08-09  \n",
       "1                         Health Care Equipment       1964-03-31  \n",
       "2                               Pharmaceuticals       2012-12-31  \n",
       "3                         Health Care Equipment       2018-05-31  \n",
       "4                IT Consulting & Other Services       2011-07-06  \n",
       "5                Interactive Home Entertainment       2015-08-31  \n",
       "6                          Application Software       1997-05-05  \n",
       "7                                Semiconductors       2017-03-20  \n",
       "8                             Automotive Retail       2015-07-09  \n",
       "9  Independent Power Producers & Energy Traders       1998-10-02  "
      ]
     },
     "execution_count": 14,
     "metadata": {},
     "output_type": "execute_result"
    }
   ],
   "source": [
    "sp500 = data[0]\n",
    "sp500 = sp500[['Symbol', 'Security', 'GICS Sector', 'GICS Sub-Industry', 'Date first added']]\n",
    "sp500.head(10)"
   ]
  },
  {
   "cell_type": "code",
   "execution_count": 52,
   "metadata": {},
   "outputs": [],
   "source": [
    "sp500_symbols = sp500['Symbol'].values.tolist()\n",
    "sp500_sectors = list(set(sp500['GICS Sector'].values.tolist()))\n",
    "\n",
    "sp500_symbols_new = []\n",
    "\n",
    "for symbol in sp500_symbols:\n",
    "    if '.' in symbol:\n",
    "        sp500_symbols_new.append(symbol.replace('.','-'))\n",
    "    else:\n",
    "        sp500_symbols_new.append(symbol)\n",
    "\n",
    "sp500_symbols = sp500_symbols_new        "
   ]
  },
  {
   "cell_type": "markdown",
   "metadata": {},
   "source": [
    "## Retrieve Dividend Data"
   ]
  },
  {
   "cell_type": "code",
   "execution_count": null,
   "metadata": {},
   "outputs": [],
   "source": [
    "for symbol in sp500_symbols:\n",
    "    prices = yf.Ticker(symbol).history(period='max')\n",
    "    dividends = prices[prices['Dividends'] > 0]\n",
    "    if len(dividends) > 0:\n",
    "        first_year = dividends.index[0].year\n",
    "    else:\n",
    "        continue\n",
    "    last_year = dt.datetime.today().year\n",
    "    companies = {}\n",
    "    annual_div = {}\n",
    "\n",
    "    for year in range(first_year, last_year):\n",
    "        annual_div[year] = dividends[dividends.index.year ==  year]['Dividends'].sum()\n",
    "        if len(annual_div) >= 25:\n",
    "            companies[symbol] = annual_div\n",
    "    \n",
    "companies"
   ]
  },
  {
   "cell_type": "code",
   "execution_count": 39,
   "metadata": {},
   "outputs": [
    {
     "data": {
      "text/plain": [
       "{'JNJ': {1962: 0.002316,\n",
       "  1963: 0.0025470000000000002,\n",
       "  1964: 0.0027790000000000002,\n",
       "  1965: 0.0033550000000000003,\n",
       "  1966: 0.003819,\n",
       "  1967: 0.004283,\n",
       "  1968: 0.004515,\n",
       "  1969: 0.005903,\n",
       "  1970: 0.007084,\n",
       "  1971: 0.008957,\n",
       "  1972: 0.009312,\n",
       "  1973: 0.010937,\n",
       "  1974: 0.015105,\n",
       "  1975: 0.017709,\n",
       "  1976: 0.021874,\n",
       "  1977: 0.029168,\n",
       "  1978: 0.035416,\n",
       "  1979: 0.041668,\n",
       "  1980: 0.046354000000000006,\n",
       "  1981: 0.053229,\n",
       "  1982: 0.060625,\n",
       "  1983: 0.06718899999999998,\n",
       "  1984: 0.073438,\n",
       "  1985: 0.079689,\n",
       "  1986: 0.08593800000000001,\n",
       "  1987: 0.10062499999999999,\n",
       "  1988: 0.12,\n",
       "  1989: 0.14,\n",
       "  1990: 0.16375,\n",
       "  1991: 0.1925,\n",
       "  1992: 0.2225,\n",
       "  1993: 0.2525,\n",
       "  1994: 0.28250000000000003,\n",
       "  1995: 0.32,\n",
       "  1996: 0.36749999999999994,\n",
       "  1997: 0.425,\n",
       "  1998: 0.485,\n",
       "  1999: 0.545,\n",
       "  2000: 0.6200000000000001,\n",
       "  2001: 0.7,\n",
       "  2002: 0.7949999999999999,\n",
       "  2003: 0.9249999999999999,\n",
       "  2004: 1.0949999999999998,\n",
       "  2005: 1.2750000000000001,\n",
       "  2006: 1.455,\n",
       "  2007: 1.62,\n",
       "  2008: 1.795,\n",
       "  2009: 1.93,\n",
       "  2010: 2.1100000000000003,\n",
       "  2011: 2.2499999999999996,\n",
       "  2012: 2.4,\n",
       "  2013: 2.5900000000000003,\n",
       "  2014: 2.76,\n",
       "  2015: 2.95,\n",
       "  2016: 3.1500000000000004,\n",
       "  2017: 3.32,\n",
       "  2018: 3.54,\n",
       "  2019: 3.75,\n",
       "  2020: 3.9799999999999995}}"
      ]
     },
     "execution_count": 39,
     "metadata": {},
     "output_type": "execute_result"
    }
   ],
   "source": []
  },
  {
   "cell_type": "code",
   "execution_count": 33,
   "metadata": {},
   "outputs": [
    {
     "data": {
      "text/plain": [
       "2021"
      ]
     },
     "execution_count": 33,
     "metadata": {},
     "output_type": "execute_result"
    }
   ],
   "source": []
  },
  {
   "cell_type": "code",
   "execution_count": 29,
   "metadata": {},
   "outputs": [
    {
     "data": {
      "text/plain": [
       "1963"
      ]
     },
     "execution_count": 29,
     "metadata": {},
     "output_type": "execute_result"
    }
   ],
   "source": [
    "\n",
    "first_year + 1\n",
    "annual_div = 0\n",
    "annual_df = pd.DataFrame()\n",
    "\n",
    "output = []\n",
    "        \n"
   ]
  },
  {
   "cell_type": "code",
   "execution_count": null,
   "metadata": {},
   "outputs": [],
   "source": []
  }
 ],
 "metadata": {
  "kernelspec": {
   "display_name": "Python 3",
   "language": "python",
   "name": "python3"
  },
  "language_info": {
   "codemirror_mode": {
    "name": "ipython",
    "version": 3
   },
   "file_extension": ".py",
   "mimetype": "text/x-python",
   "name": "python",
   "nbconvert_exporter": "python",
   "pygments_lexer": "ipython3",
   "version": "3.8.5"
  },
  "toc": {
   "base_numbering": 1,
   "nav_menu": {},
   "number_sections": false,
   "sideBar": true,
   "skip_h1_title": false,
   "title_cell": "Table of Contents",
   "title_sidebar": "Contents",
   "toc_cell": false,
   "toc_position": {},
   "toc_section_display": true,
   "toc_window_display": true
  },
  "varInspector": {
   "cols": {
    "lenName": 16,
    "lenType": 16,
    "lenVar": 40
   },
   "kernels_config": {
    "python": {
     "delete_cmd_postfix": "",
     "delete_cmd_prefix": "del ",
     "library": "var_list.py",
     "varRefreshCmd": "print(var_dic_list())"
    },
    "r": {
     "delete_cmd_postfix": ") ",
     "delete_cmd_prefix": "rm(",
     "library": "var_list.r",
     "varRefreshCmd": "cat(var_dic_list()) "
    }
   },
   "types_to_exclude": [
    "module",
    "function",
    "builtin_function_or_method",
    "instance",
    "_Feature"
   ],
   "window_display": false
  }
 },
 "nbformat": 4,
 "nbformat_minor": 4
}
