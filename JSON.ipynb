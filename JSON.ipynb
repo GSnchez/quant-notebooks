{
 "cells": [
  {
   "cell_type": "code",
   "execution_count": 1,
   "metadata": {},
   "outputs": [],
   "source": [
    "import json"
   ]
  },
  {
   "cell_type": "code",
   "execution_count": 3,
   "metadata": {},
   "outputs": [],
   "source": [
    "with open('states.json') as f:\n",
    "    states = json.load(f)"
   ]
  },
  {
   "cell_type": "code",
   "execution_count": 4,
   "metadata": {},
   "outputs": [
    {
     "name": "stdout",
     "output_type": "stream",
     "text": [
      "{'states': [{'name': 'Alabama', 'abbreviation': 'AL'}, {'name': 'Alaska', 'abbreviation': 'AK'}, {'name': 'Arizona', 'abbreviation': 'AZ'}, {'name': 'Arkansas', 'abbreviation': 'AR'}, {'name': 'California', 'abbreviation': 'CA'}, {'name': 'Colorado', 'abbreviation': 'CO'}, {'name': 'Connecticut', 'abbreviation': 'CT'}, {'name': 'Delaware', 'abbreviation': 'DE'}, {'name': 'Florida', 'abbreviation': 'FL'}, {'name': 'Georgia', 'abbreviation': 'GA'}, {'name': 'Hawaii', 'abbreviation': 'HI'}, {'name': 'Idaho', 'abbreviation': 'ID'}, {'name': 'Illinois', 'abbreviation': 'IL'}, {'name': 'Indiana', 'abbreviation': 'IN'}, {'name': 'Iowa', 'abbreviation': 'IA'}, {'name': 'Kansas', 'abbreviation': 'KS'}, {'name': 'Kentucky', 'abbreviation': 'KY'}, {'name': 'Louisiana', 'abbreviation': 'LA'}, {'name': 'Maine', 'abbreviation': 'ME'}, {'name': 'Maryland', 'abbreviation': 'MD'}, {'name': 'Massachusetts', 'abbreviation': 'MA'}, {'name': 'Michigan', 'abbreviation': 'MI'}, {'name': 'Minnesota', 'abbreviation': 'MN'}, {'name': 'Mississippi', 'abbreviation': 'MS'}, {'name': 'Missouri', 'abbreviation': 'MO'}, {'name': 'Montana', 'abbreviation': 'MT'}, {'name': 'Nebraska', 'abbreviation': 'NE'}, {'name': 'Nevada', 'abbreviation': 'NV'}, {'name': 'New Hampshire', 'abbreviation': 'NH'}, {'name': 'New Jersey', 'abbreviation': 'NJ'}, {'name': 'New Mexico', 'abbreviation': 'NM'}, {'name': 'New York', 'abbreviation': 'NY'}, {'name': 'North Carolina', 'abbreviation': 'NC'}, {'name': 'North Dakota', 'abbreviation': 'ND'}, {'name': 'Ohio', 'abbreviation': 'OH'}, {'name': 'Oklahoma', 'abbreviation': 'OK'}, {'name': 'Oregon', 'abbreviation': 'OR'}, {'name': 'Pennsylvania', 'abbreviation': 'PA'}, {'name': 'Rhode Island', 'abbreviation': 'RI'}, {'name': 'South Carolina', 'abbreviation': 'SC'}, {'name': 'South Dakota', 'abbreviation': 'SD'}, {'name': 'Tennessee', 'abbreviation': 'TN'}, {'name': 'Texas', 'abbreviation': 'TX'}, {'name': 'Utah', 'abbreviation': 'UT'}, {'name': 'Vermont', 'abbreviation': 'VT'}, {'name': 'Virginia', 'abbreviation': 'VA'}, {'name': 'Washington', 'abbreviation': 'WA'}, {'name': 'West Virginia', 'abbreviation': 'WV'}, {'name': 'Wisconsin', 'abbreviation': 'WI'}, {'name': 'Wyoming', 'abbreviation': 'WY'}]}\n"
     ]
    }
   ],
   "source": [
    "print(states)"
   ]
  },
  {
   "cell_type": "code",
   "execution_count": 5,
   "metadata": {},
   "outputs": [
    {
     "name": "stdout",
     "output_type": "stream",
     "text": [
      "<class 'dict'>\n"
     ]
    }
   ],
   "source": [
    "print(type(states))"
   ]
  },
  {
   "cell_type": "code",
   "execution_count": 8,
   "metadata": {},
   "outputs": [],
   "source": [
    "new = json.dumps(states, indent=2)"
   ]
  },
  {
   "cell_type": "code",
   "execution_count": 9,
   "metadata": {},
   "outputs": [
    {
     "data": {
      "text/plain": [
       "'{\\n  \"states\": [\\n    {\\n      \"name\": \"Alabama\",\\n      \"abbreviation\": \"AL\"\\n    },\\n    {\\n      \"name\": \"Alaska\",\\n      \"abbreviation\": \"AK\"\\n    },\\n    {\\n      \"name\": \"Arizona\",\\n      \"abbreviation\": \"AZ\"\\n    },\\n    {\\n      \"name\": \"Arkansas\",\\n      \"abbreviation\": \"AR\"\\n    },\\n    {\\n      \"name\": \"California\",\\n      \"abbreviation\": \"CA\"\\n    },\\n    {\\n      \"name\": \"Colorado\",\\n      \"abbreviation\": \"CO\"\\n    },\\n    {\\n      \"name\": \"Connecticut\",\\n      \"abbreviation\": \"CT\"\\n    },\\n    {\\n      \"name\": \"Delaware\",\\n      \"abbreviation\": \"DE\"\\n    },\\n    {\\n      \"name\": \"Florida\",\\n      \"abbreviation\": \"FL\"\\n    },\\n    {\\n      \"name\": \"Georgia\",\\n      \"abbreviation\": \"GA\"\\n    },\\n    {\\n      \"name\": \"Hawaii\",\\n      \"abbreviation\": \"HI\"\\n    },\\n    {\\n      \"name\": \"Idaho\",\\n      \"abbreviation\": \"ID\"\\n    },\\n    {\\n      \"name\": \"Illinois\",\\n      \"abbreviation\": \"IL\"\\n    },\\n    {\\n      \"name\": \"Indiana\",\\n      \"abbreviation\": \"IN\"\\n    },\\n    {\\n      \"name\": \"Iowa\",\\n      \"abbreviation\": \"IA\"\\n    },\\n    {\\n      \"name\": \"Kansas\",\\n      \"abbreviation\": \"KS\"\\n    },\\n    {\\n      \"name\": \"Kentucky\",\\n      \"abbreviation\": \"KY\"\\n    },\\n    {\\n      \"name\": \"Louisiana\",\\n      \"abbreviation\": \"LA\"\\n    },\\n    {\\n      \"name\": \"Maine\",\\n      \"abbreviation\": \"ME\"\\n    },\\n    {\\n      \"name\": \"Maryland\",\\n      \"abbreviation\": \"MD\"\\n    },\\n    {\\n      \"name\": \"Massachusetts\",\\n      \"abbreviation\": \"MA\"\\n    },\\n    {\\n      \"name\": \"Michigan\",\\n      \"abbreviation\": \"MI\"\\n    },\\n    {\\n      \"name\": \"Minnesota\",\\n      \"abbreviation\": \"MN\"\\n    },\\n    {\\n      \"name\": \"Mississippi\",\\n      \"abbreviation\": \"MS\"\\n    },\\n    {\\n      \"name\": \"Missouri\",\\n      \"abbreviation\": \"MO\"\\n    },\\n    {\\n      \"name\": \"Montana\",\\n      \"abbreviation\": \"MT\"\\n    },\\n    {\\n      \"name\": \"Nebraska\",\\n      \"abbreviation\": \"NE\"\\n    },\\n    {\\n      \"name\": \"Nevada\",\\n      \"abbreviation\": \"NV\"\\n    },\\n    {\\n      \"name\": \"New Hampshire\",\\n      \"abbreviation\": \"NH\"\\n    },\\n    {\\n      \"name\": \"New Jersey\",\\n      \"abbreviation\": \"NJ\"\\n    },\\n    {\\n      \"name\": \"New Mexico\",\\n      \"abbreviation\": \"NM\"\\n    },\\n    {\\n      \"name\": \"New York\",\\n      \"abbreviation\": \"NY\"\\n    },\\n    {\\n      \"name\": \"North Carolina\",\\n      \"abbreviation\": \"NC\"\\n    },\\n    {\\n      \"name\": \"North Dakota\",\\n      \"abbreviation\": \"ND\"\\n    },\\n    {\\n      \"name\": \"Ohio\",\\n      \"abbreviation\": \"OH\"\\n    },\\n    {\\n      \"name\": \"Oklahoma\",\\n      \"abbreviation\": \"OK\"\\n    },\\n    {\\n      \"name\": \"Oregon\",\\n      \"abbreviation\": \"OR\"\\n    },\\n    {\\n      \"name\": \"Pennsylvania\",\\n      \"abbreviation\": \"PA\"\\n    },\\n    {\\n      \"name\": \"Rhode Island\",\\n      \"abbreviation\": \"RI\"\\n    },\\n    {\\n      \"name\": \"South Carolina\",\\n      \"abbreviation\": \"SC\"\\n    },\\n    {\\n      \"name\": \"South Dakota\",\\n      \"abbreviation\": \"SD\"\\n    },\\n    {\\n      \"name\": \"Tennessee\",\\n      \"abbreviation\": \"TN\"\\n    },\\n    {\\n      \"name\": \"Texas\",\\n      \"abbreviation\": \"TX\"\\n    },\\n    {\\n      \"name\": \"Utah\",\\n      \"abbreviation\": \"UT\"\\n    },\\n    {\\n      \"name\": \"Vermont\",\\n      \"abbreviation\": \"VT\"\\n    },\\n    {\\n      \"name\": \"Virginia\",\\n      \"abbreviation\": \"VA\"\\n    },\\n    {\\n      \"name\": \"Washington\",\\n      \"abbreviation\": \"WA\"\\n    },\\n    {\\n      \"name\": \"West Virginia\",\\n      \"abbreviation\": \"WV\"\\n    },\\n    {\\n      \"name\": \"Wisconsin\",\\n      \"abbreviation\": \"WI\"\\n    },\\n    {\\n      \"name\": \"Wyoming\",\\n      \"abbreviation\": \"WY\"\\n    }\\n  ]\\n}'"
      ]
     },
     "execution_count": 9,
     "metadata": {},
     "output_type": "execute_result"
    }
   ],
   "source": [
    "new"
   ]
  },
  {
   "cell_type": "code",
   "execution_count": null,
   "metadata": {},
   "outputs": [],
   "source": []
  }
 ],
 "metadata": {
  "kernelspec": {
   "display_name": "Python 3",
   "language": "python",
   "name": "python3"
  },
  "language_info": {
   "codemirror_mode": {
    "name": "ipython",
    "version": 3
   },
   "file_extension": ".py",
   "mimetype": "text/x-python",
   "name": "python",
   "nbconvert_exporter": "python",
   "pygments_lexer": "ipython3",
   "version": "3.7.7"
  }
 },
 "nbformat": 4,
 "nbformat_minor": 4
}
