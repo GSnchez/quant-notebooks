{
 "cells": [
  {
   "cell_type": "markdown",
   "metadata": {},
   "source": [
    "# Dividend Aristocrats"
   ]
  },
  {
   "cell_type": "markdown",
   "metadata": {},
   "source": [
    "## Get Stock Symbols from S&P 500"
   ]
  },
  {
   "cell_type": "code",
   "execution_count": 9,
   "metadata": {},
   "outputs": [],
   "source": [
    "import yfinance as yf\n",
    "import pandas as pd\n",
    "import datetime as dt"
   ]
  },
  {
   "cell_type": "code",
   "execution_count": 10,
   "metadata": {},
   "outputs": [],
   "source": [
    "data = pd.read_html('https://en.wikipedia.org/wiki/List_of_S%26P_500_companies')"
   ]
  },
  {
   "cell_type": "code",
   "execution_count": 11,
   "metadata": {},
   "outputs": [
    {
     "data": {
      "text/html": [
       "<div>\n",
       "<style scoped>\n",
       "    .dataframe tbody tr th:only-of-type {\n",
       "        vertical-align: middle;\n",
       "    }\n",
       "\n",
       "    .dataframe tbody tr th {\n",
       "        vertical-align: top;\n",
       "    }\n",
       "\n",
       "    .dataframe thead th {\n",
       "        text-align: right;\n",
       "    }\n",
       "</style>\n",
       "<table border=\"1\" class=\"dataframe\">\n",
       "  <thead>\n",
       "    <tr style=\"text-align: right;\">\n",
       "      <th></th>\n",
       "      <th>Symbol</th>\n",
       "      <th>Security</th>\n",
       "      <th>GICS Sector</th>\n",
       "      <th>GICS Sub-Industry</th>\n",
       "      <th>Date first added</th>\n",
       "    </tr>\n",
       "  </thead>\n",
       "  <tbody>\n",
       "    <tr>\n",
       "      <th>0</th>\n",
       "      <td>MMM</td>\n",
       "      <td>3M Company</td>\n",
       "      <td>Industrials</td>\n",
       "      <td>Industrial Conglomerates</td>\n",
       "      <td>1976-08-09</td>\n",
       "    </tr>\n",
       "    <tr>\n",
       "      <th>1</th>\n",
       "      <td>ABT</td>\n",
       "      <td>Abbott Laboratories</td>\n",
       "      <td>Health Care</td>\n",
       "      <td>Health Care Equipment</td>\n",
       "      <td>1964-03-31</td>\n",
       "    </tr>\n",
       "    <tr>\n",
       "      <th>2</th>\n",
       "      <td>ABBV</td>\n",
       "      <td>AbbVie Inc.</td>\n",
       "      <td>Health Care</td>\n",
       "      <td>Pharmaceuticals</td>\n",
       "      <td>2012-12-31</td>\n",
       "    </tr>\n",
       "    <tr>\n",
       "      <th>3</th>\n",
       "      <td>ABMD</td>\n",
       "      <td>Abiomed</td>\n",
       "      <td>Health Care</td>\n",
       "      <td>Health Care Equipment</td>\n",
       "      <td>2018-05-31</td>\n",
       "    </tr>\n",
       "    <tr>\n",
       "      <th>4</th>\n",
       "      <td>ACN</td>\n",
       "      <td>Accenture</td>\n",
       "      <td>Information Technology</td>\n",
       "      <td>IT Consulting &amp; Other Services</td>\n",
       "      <td>2011-07-06</td>\n",
       "    </tr>\n",
       "    <tr>\n",
       "      <th>5</th>\n",
       "      <td>ATVI</td>\n",
       "      <td>Activision Blizzard</td>\n",
       "      <td>Communication Services</td>\n",
       "      <td>Interactive Home Entertainment</td>\n",
       "      <td>2015-08-31</td>\n",
       "    </tr>\n",
       "    <tr>\n",
       "      <th>6</th>\n",
       "      <td>ADBE</td>\n",
       "      <td>Adobe Inc.</td>\n",
       "      <td>Information Technology</td>\n",
       "      <td>Application Software</td>\n",
       "      <td>1997-05-05</td>\n",
       "    </tr>\n",
       "    <tr>\n",
       "      <th>7</th>\n",
       "      <td>AMD</td>\n",
       "      <td>Advanced Micro Devices</td>\n",
       "      <td>Information Technology</td>\n",
       "      <td>Semiconductors</td>\n",
       "      <td>2017-03-20</td>\n",
       "    </tr>\n",
       "    <tr>\n",
       "      <th>8</th>\n",
       "      <td>AAP</td>\n",
       "      <td>Advance Auto Parts</td>\n",
       "      <td>Consumer Discretionary</td>\n",
       "      <td>Automotive Retail</td>\n",
       "      <td>2015-07-09</td>\n",
       "    </tr>\n",
       "    <tr>\n",
       "      <th>9</th>\n",
       "      <td>AES</td>\n",
       "      <td>AES Corp</td>\n",
       "      <td>Utilities</td>\n",
       "      <td>Independent Power Producers &amp; Energy Traders</td>\n",
       "      <td>1998-10-02</td>\n",
       "    </tr>\n",
       "  </tbody>\n",
       "</table>\n",
       "</div>"
      ],
      "text/plain": [
       "  Symbol                Security             GICS Sector  \\\n",
       "0    MMM              3M Company             Industrials   \n",
       "1    ABT     Abbott Laboratories             Health Care   \n",
       "2   ABBV             AbbVie Inc.             Health Care   \n",
       "3   ABMD                 Abiomed             Health Care   \n",
       "4    ACN               Accenture  Information Technology   \n",
       "5   ATVI     Activision Blizzard  Communication Services   \n",
       "6   ADBE              Adobe Inc.  Information Technology   \n",
       "7    AMD  Advanced Micro Devices  Information Technology   \n",
       "8    AAP      Advance Auto Parts  Consumer Discretionary   \n",
       "9    AES                AES Corp               Utilities   \n",
       "\n",
       "                              GICS Sub-Industry Date first added  \n",
       "0                      Industrial Conglomerates       1976-08-09  \n",
       "1                         Health Care Equipment       1964-03-31  \n",
       "2                               Pharmaceuticals       2012-12-31  \n",
       "3                         Health Care Equipment       2018-05-31  \n",
       "4                IT Consulting & Other Services       2011-07-06  \n",
       "5                Interactive Home Entertainment       2015-08-31  \n",
       "6                          Application Software       1997-05-05  \n",
       "7                                Semiconductors       2017-03-20  \n",
       "8                             Automotive Retail       2015-07-09  \n",
       "9  Independent Power Producers & Energy Traders       1998-10-02  "
      ]
     },
     "execution_count": 11,
     "metadata": {},
     "output_type": "execute_result"
    }
   ],
   "source": [
    "sp500 = data[0]\n",
    "sp500 = sp500[['Symbol', 'Security', 'GICS Sector', 'GICS Sub-Industry', 'Date first added']]\n",
    "sp500.head(10)"
   ]
  },
  {
   "cell_type": "code",
   "execution_count": 12,
   "metadata": {},
   "outputs": [],
   "source": [
    "sp500_symbols = sp500['Symbol'].values.tolist()\n",
    "sp500_sectors = list(set(sp500['GICS Sector'].values.tolist()))\n",
    "\n",
    "sp500_symbols_new = []\n",
    "\n",
    "for symbol in sp500_symbols:\n",
    "    if '.' in symbol:\n",
    "        sp500_symbols_new.append(symbol.replace('.','-'))\n",
    "    else:\n",
    "        sp500_symbols_new.append(symbol)\n",
    "\n",
    "sp500_symbols = sp500_symbols_new        "
   ]
  },
  {
   "cell_type": "markdown",
   "metadata": {},
   "source": [
    "## Retrieve Dividend Data"
   ]
  },
  {
   "cell_type": "code",
   "execution_count": 68,
   "metadata": {},
   "outputs": [],
   "source": [
    "companies = {}\n",
    "#sp500_symbols = ['AAPL', 'JNJ']\n",
    "# for symbol in sp500_symbols:\n",
    "symbol = 'MMM'\n",
    "    \n",
    "prices = yf.Ticker(symbol).history(period='max')\n",
    "dividends = prices[prices['Dividends'] > 0]\n",
    "if len(dividends) > 0:\n",
    "    first_year = dividends.index[0].year\n",
    "# else:\n",
    "#     continue\n",
    "last_year = dt.datetime.today().year\n",
    "annual_div = {}\n",
    "\n",
    "for year in range(first_year, last_year):\n",
    "    div_sum = dividends[dividends.index.year ==  year]['Dividends'].sum()\n",
    "    if div_sum == 0: # dividend discontinued --> no consistency\n",
    "        break\n",
    "    else:\n",
    "        annual_div[year] = div_sum\n",
    "\n",
    "if len(annual_div) >= 25: # dividend aristocrats\n",
    "    companies[symbol] = []\n",
    "    companies[symbol].append(annual_div)\n",
    "    companies[symbol].append(len(annual_div))"
   ]
  },
  {
   "cell_type": "code",
   "execution_count": 62,
   "metadata": {
    "scrolled": true
   },
   "outputs": [
    {
     "name": "stdout",
     "output_type": "stream",
     "text": [
      "0.082\n",
      "0.09052631578947369\n"
     ]
    }
   ],
   "source": [
    "print(companies['MMM'][0][1970])\n",
    "# increase = 0\n",
    "# decrease = 0\n",
    "# same = 0\n",
    "\n",
    "# for i in range(1970, 2019):\n",
    "#     if companies['MMM'][0][i] < companies['MMM'][0][i+1]:\n",
    "#         increase += 1\n",
    "#     elif companies['MMM'][0][i] > companies['MMM'][0][i+1]:\n",
    "#         decrease += 1\n",
    "#     else:\n",
    "#         same += 1\n",
    "# print(increase, decrease, same)\n",
    "\n",
    "rate_change = []\n",
    "for i in range(2000, 2019):\n",
    "    last_year = companies['MMM'][0][i]\n",
    "    this_year = companies['MMM'][0][i+1]\n",
    "    rate_change.append(round(((this_year - last_year) / last_year),2))\n",
    "    \n",
    "print(sum(rate_change)/len(rate_change))\n",
    "        \n",
    "    \n",
    "# import matplotlib.pyplot as plt\n",
    "\n",
    "# x_value = [i for i in companies['MMM'][0].keys()]\n",
    "# y_value = [i for i in companies['MMM'][0].values()]\n",
    "\n",
    "# fig = plt.figure()\n",
    "# ax = fig.add_axes([0,0,1,1])\n",
    "# ax.bar(x_value,y_value)\n",
    "# # plt.plot(x_value,y_value)\n",
    "# plt.title('Dividen')\n",
    "# plt.xlabel('Year')\n",
    "# plt.ylabel('Amount of dividen')\n",
    "# plt.show()\n"
   ]
  },
  {
   "cell_type": "markdown",
   "metadata": {},
   "source": [
    "## List of Dividend Kings"
   ]
  },
  {
   "cell_type": "code",
   "execution_count": 63,
   "metadata": {},
   "outputs": [],
   "source": [
    "div_kings = {}\n",
    "aristocrats = {}\n",
    "for company in companies.keys():\n",
    "    years = companies[company][1]\n",
    "    if years >= 50:\n",
    "        div_kings[company] = years\n",
    "    else:\n",
    "        aristocrats[company] = years"
   ]
  },
  {
   "cell_type": "code",
   "execution_count": 65,
   "metadata": {
    "scrolled": true
   },
   "outputs": [
    {
     "name": "stdout",
     "output_type": "stream",
     "text": [
      "{'MMM': 51}\n"
     ]
    }
   ],
   "source": [
    "div_kings"
   ]
  },
  {
   "cell_type": "code",
   "execution_count": 90,
   "metadata": {},
   "outputs": [
    {
     "data": {
      "text/html": [
       "<div>\n",
       "<style scoped>\n",
       "    .dataframe tbody tr th:only-of-type {\n",
       "        vertical-align: middle;\n",
       "    }\n",
       "\n",
       "    .dataframe tbody tr th {\n",
       "        vertical-align: top;\n",
       "    }\n",
       "\n",
       "    .dataframe thead th {\n",
       "        text-align: right;\n",
       "    }\n",
       "</style>\n",
       "<table border=\"1\" class=\"dataframe\">\n",
       "  <thead>\n",
       "    <tr style=\"text-align: right;\">\n",
       "      <th></th>\n",
       "      <th>Consecutive Years of Dividend Payment</th>\n",
       "    </tr>\n",
       "  </thead>\n",
       "  <tbody>\n",
       "    <tr>\n",
       "      <th>XOM</th>\n",
       "      <td>59</td>\n",
       "    </tr>\n",
       "    <tr>\n",
       "      <th>GE</th>\n",
       "      <td>59</td>\n",
       "    </tr>\n",
       "    <tr>\n",
       "      <th>JNJ</th>\n",
       "      <td>59</td>\n",
       "    </tr>\n",
       "    <tr>\n",
       "      <th>IP</th>\n",
       "      <td>59</td>\n",
       "    </tr>\n",
       "    <tr>\n",
       "      <th>IBM</th>\n",
       "      <td>59</td>\n",
       "    </tr>\n",
       "    <tr>\n",
       "      <th>HWM</th>\n",
       "      <td>59</td>\n",
       "    </tr>\n",
       "    <tr>\n",
       "      <th>MO</th>\n",
       "      <td>59</td>\n",
       "    </tr>\n",
       "    <tr>\n",
       "      <th>MRO</th>\n",
       "      <td>59</td>\n",
       "    </tr>\n",
       "    <tr>\n",
       "      <th>DTE</th>\n",
       "      <td>59</td>\n",
       "    </tr>\n",
       "    <tr>\n",
       "      <th>ED</th>\n",
       "      <td>59</td>\n",
       "    </tr>\n",
       "    <tr>\n",
       "      <th>KO</th>\n",
       "      <td>59</td>\n",
       "    </tr>\n",
       "    <tr>\n",
       "      <th>CNP</th>\n",
       "      <td>59</td>\n",
       "    </tr>\n",
       "    <tr>\n",
       "      <th>BA</th>\n",
       "      <td>59</td>\n",
       "    </tr>\n",
       "    <tr>\n",
       "      <th>PG</th>\n",
       "      <td>59</td>\n",
       "    </tr>\n",
       "    <tr>\n",
       "      <th>HPQ</th>\n",
       "      <td>56</td>\n",
       "    </tr>\n",
       "    <tr>\n",
       "      <th>MRK</th>\n",
       "      <td>51</td>\n",
       "    </tr>\n",
       "    <tr>\n",
       "      <th>MMM</th>\n",
       "      <td>51</td>\n",
       "    </tr>\n",
       "    <tr>\n",
       "      <th>HON</th>\n",
       "      <td>51</td>\n",
       "    </tr>\n",
       "    <tr>\n",
       "      <th>AEP</th>\n",
       "      <td>51</td>\n",
       "    </tr>\n",
       "    <tr>\n",
       "      <th>RTX</th>\n",
       "      <td>51</td>\n",
       "    </tr>\n",
       "  </tbody>\n",
       "</table>\n",
       "</div>"
      ],
      "text/plain": [
       "     Consecutive Years of Dividend Payment\n",
       "XOM                                     59\n",
       "GE                                      59\n",
       "JNJ                                     59\n",
       "IP                                      59\n",
       "IBM                                     59\n",
       "HWM                                     59\n",
       "MO                                      59\n",
       "MRO                                     59\n",
       "DTE                                     59\n",
       "ED                                      59\n",
       "KO                                      59\n",
       "CNP                                     59\n",
       "BA                                      59\n",
       "PG                                      59\n",
       "HPQ                                     56\n",
       "MRK                                     51\n",
       "MMM                                     51\n",
       "HON                                     51\n",
       "AEP                                     51\n",
       "RTX                                     51"
      ]
     },
     "execution_count": 90,
     "metadata": {},
     "output_type": "execute_result"
    }
   ],
   "source": [
    "div_kings_df = pd.DataFrame.from_dict(div_kings, orient='index', columns=['Consecutive Years of Dividend Payment'])\n",
    "div_kings_df.sort_values(by = ['Consecutive Years of Dividend Payment'], ascending=False).head(20)"
   ]
  },
  {
   "cell_type": "code",
   "execution_count": 66,
   "metadata": {},
   "outputs": [
    {
     "data": {
      "text/plain": [
       "1"
      ]
     },
     "execution_count": 66,
     "metadata": {},
     "output_type": "execute_result"
    }
   ],
   "source": [
    "len(div_kings)"
   ]
  },
  {
   "cell_type": "markdown",
   "metadata": {},
   "source": [
    "## List of Dividend Aristocrats"
   ]
  },
  {
   "cell_type": "code",
   "execution_count": 94,
   "metadata": {},
   "outputs": [
    {
     "data": {
      "text/html": [
       "<div>\n",
       "<style scoped>\n",
       "    .dataframe tbody tr th:only-of-type {\n",
       "        vertical-align: middle;\n",
       "    }\n",
       "\n",
       "    .dataframe tbody tr th {\n",
       "        vertical-align: top;\n",
       "    }\n",
       "\n",
       "    .dataframe thead th {\n",
       "        text-align: right;\n",
       "    }\n",
       "</style>\n",
       "<table border=\"1\" class=\"dataframe\">\n",
       "  <thead>\n",
       "    <tr style=\"text-align: right;\">\n",
       "      <th></th>\n",
       "      <th>Consecutive Years of Dividend Payment</th>\n",
       "    </tr>\n",
       "  </thead>\n",
       "  <tbody>\n",
       "    <tr>\n",
       "      <th>PEP</th>\n",
       "      <td>49</td>\n",
       "    </tr>\n",
       "    <tr>\n",
       "      <th>TXN</th>\n",
       "      <td>49</td>\n",
       "    </tr>\n",
       "    <tr>\n",
       "      <th>EMR</th>\n",
       "      <td>49</td>\n",
       "    </tr>\n",
       "    <tr>\n",
       "      <th>DE</th>\n",
       "      <td>49</td>\n",
       "    </tr>\n",
       "    <tr>\n",
       "      <th>HAL</th>\n",
       "      <td>49</td>\n",
       "    </tr>\n",
       "    <tr>\n",
       "      <th>LLY</th>\n",
       "      <td>49</td>\n",
       "    </tr>\n",
       "    <tr>\n",
       "      <th>DD</th>\n",
       "      <td>49</td>\n",
       "    </tr>\n",
       "    <tr>\n",
       "      <th>BMY</th>\n",
       "      <td>49</td>\n",
       "    </tr>\n",
       "    <tr>\n",
       "      <th>PFE</th>\n",
       "      <td>49</td>\n",
       "    </tr>\n",
       "    <tr>\n",
       "      <th>ETN</th>\n",
       "      <td>49</td>\n",
       "    </tr>\n",
       "    <tr>\n",
       "      <th>WFC</th>\n",
       "      <td>49</td>\n",
       "    </tr>\n",
       "    <tr>\n",
       "      <th>CL</th>\n",
       "      <td>48</td>\n",
       "    </tr>\n",
       "    <tr>\n",
       "      <th>EXC</th>\n",
       "      <td>48</td>\n",
       "    </tr>\n",
       "    <tr>\n",
       "      <th>WMT</th>\n",
       "      <td>47</td>\n",
       "    </tr>\n",
       "    <tr>\n",
       "      <th>IFF</th>\n",
       "      <td>47</td>\n",
       "    </tr>\n",
       "    <tr>\n",
       "      <th>AXP</th>\n",
       "      <td>44</td>\n",
       "    </tr>\n",
       "    <tr>\n",
       "      <th>WY</th>\n",
       "      <td>44</td>\n",
       "    </tr>\n",
       "    <tr>\n",
       "      <th>GD</th>\n",
       "      <td>42</td>\n",
       "    </tr>\n",
       "    <tr>\n",
       "      <th>PEG</th>\n",
       "      <td>41</td>\n",
       "    </tr>\n",
       "    <tr>\n",
       "      <th>UNP</th>\n",
       "      <td>41</td>\n",
       "    </tr>\n",
       "  </tbody>\n",
       "</table>\n",
       "</div>"
      ],
      "text/plain": [
       "     Consecutive Years of Dividend Payment\n",
       "PEP                                     49\n",
       "TXN                                     49\n",
       "EMR                                     49\n",
       "DE                                      49\n",
       "HAL                                     49\n",
       "LLY                                     49\n",
       "DD                                      49\n",
       "BMY                                     49\n",
       "PFE                                     49\n",
       "ETN                                     49\n",
       "WFC                                     49\n",
       "CL                                      48\n",
       "EXC                                     48\n",
       "WMT                                     47\n",
       "IFF                                     47\n",
       "AXP                                     44\n",
       "WY                                      44\n",
       "GD                                      42\n",
       "PEG                                     41\n",
       "UNP                                     41"
      ]
     },
     "execution_count": 94,
     "metadata": {},
     "output_type": "execute_result"
    }
   ],
   "source": [
    "aristocrats_df = pd.DataFrame.from_dict(aristocrats, orient='index', columns=['Consecutive Years of Dividend Payment'])\n",
    "aristocrats_df.sort_values(by = ['Consecutive Years of Dividend Payment'], ascending=False).head(20)"
   ]
  },
  {
   "cell_type": "code",
   "execution_count": 95,
   "metadata": {},
   "outputs": [
    {
     "data": {
      "text/plain": [
       "183"
      ]
     },
     "execution_count": 95,
     "metadata": {},
     "output_type": "execute_result"
    }
   ],
   "source": [
    "len(aristocrats)"
   ]
  },
  {
   "cell_type": "code",
   "execution_count": null,
   "metadata": {},
   "outputs": [],
   "source": []
  }
 ],
 "metadata": {
  "kernelspec": {
   "display_name": "Python 3",
   "language": "python",
   "name": "python3"
  },
  "language_info": {
   "codemirror_mode": {
    "name": "ipython",
    "version": 3
   },
   "file_extension": ".py",
   "mimetype": "text/x-python",
   "name": "python",
   "nbconvert_exporter": "python",
   "pygments_lexer": "ipython3",
   "version": "3.8.5"
  },
  "toc": {
   "base_numbering": 1,
   "nav_menu": {},
   "number_sections": false,
   "sideBar": true,
   "skip_h1_title": false,
   "title_cell": "Table of Contents",
   "title_sidebar": "Contents",
   "toc_cell": false,
   "toc_position": {},
   "toc_section_display": true,
   "toc_window_display": true
  },
  "varInspector": {
   "cols": {
    "lenName": 16,
    "lenType": 16,
    "lenVar": 40
   },
   "kernels_config": {
    "python": {
     "delete_cmd_postfix": "",
     "delete_cmd_prefix": "del ",
     "library": "var_list.py",
     "varRefreshCmd": "print(var_dic_list())"
    },
    "r": {
     "delete_cmd_postfix": ") ",
     "delete_cmd_prefix": "rm(",
     "library": "var_list.r",
     "varRefreshCmd": "cat(var_dic_list()) "
    }
   },
   "types_to_exclude": [
    "module",
    "function",
    "builtin_function_or_method",
    "instance",
    "_Feature"
   ],
   "window_display": false
  }
 },
 "nbformat": 4,
 "nbformat_minor": 4
}
