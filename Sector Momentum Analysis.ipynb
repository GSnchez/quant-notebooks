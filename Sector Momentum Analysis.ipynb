{
 "cells": [
  {
   "cell_type": "markdown",
   "metadata": {},
   "source": [
    "## Extract sector table data from etfdb.com"
   ]
  },
  {
   "cell_type": "code",
   "execution_count": 18,
   "metadata": {},
   "outputs": [],
   "source": [
    "import pandas as pd"
   ]
  },
  {
   "cell_type": "code",
   "execution_count": 19,
   "metadata": {},
   "outputs": [],
   "source": [
    "url = 'https://etfdb.com/etfs/sector/'\n",
    "df = pd.read_html(url)[0].drop([11], axis=0)"
   ]
  },
  {
   "cell_type": "code",
   "execution_count": 20,
   "metadata": {},
   "outputs": [
    {
     "data": {
      "text/plain": [
       "['energy',\n",
       " 'consumer-discretionaries',\n",
       " 'financials',\n",
       " 'healthcare',\n",
       " 'industrials',\n",
       " 'technology',\n",
       " 'materials',\n",
       " 'consumer-staples',\n",
       " 'telecom',\n",
       " 'utilities',\n",
       " 'real-estate']"
      ]
     },
     "execution_count": 20,
     "metadata": {},
     "output_type": "execute_result"
    }
   ],
   "source": [
    "sectors = list(df['Sector'])\n",
    "sectors = [x.lower() for x in sectors]\n",
    "sectors = [x.replace(' ', '-') for x in sectors]\n",
    "sectors = [x.replace('discretionary', 'discretionaries') for x in sectors]\n",
    "sectors"
   ]
  },
  {
   "cell_type": "markdown",
   "metadata": {},
   "source": [
    "## Retrieve Top ETFs from Each Sector"
   ]
  },
  {
   "cell_type": "code",
   "execution_count": null,
   "metadata": {},
   "outputs": [],
   "source": [
    "top_etfs = {}\n",
    "for s in sectors:\n",
    "    sector_url = url + s + '/'\n",
    "    sector_data = pd.read_html(sector_url)[0]\n",
    "    etf_symbol = sector_data.loc[0, 'Symbol']\n",
    "    etf_name = sector_data.loc[0, 'ETF Name']\n",
    "    etf_industry = sector_data.loc[0, 'Industry']\n",
    "    etf_aum = sector_data.loc[0, 'Total Assets ($MM)']\n",
    "    top_etfs[s] = {}\n",
    "    top_etfs[s]['symbol'] = etf_symbol\n",
    "    top_etfs[s]['name'] = etf_name\n",
    "    top_etfs[s]['industry'] = etf_industry\n",
    "    top_etfs[s]['aum'] = etf_aum\n",
    "\n",
    "top_etfs"
   ]
  },
  {
   "cell_type": "markdown",
   "metadata": {},
   "source": [
    "## Calculate Sector Momentum"
   ]
  },
  {
   "cell_type": "markdown",
   "metadata": {},
   "source": [
    "## Final Output in DataFrame"
   ]
  },
  {
   "cell_type": "code",
   "execution_count": null,
   "metadata": {},
   "outputs": [],
   "source": [
    "convert_df = {'Symbol': [], 'Sector': [], 'Industry': []}\n",
    "for etf in top_etfs.keys():\n",
    "    convert_df['Symbol'].append(top_etfs[etf]['symbol'])\n",
    "    convert_df['Sector'].append(etf)\n",
    "    convert_df['Industry'].append(top_etfs[etf]['industry'])\n",
    "    # convert_df['Momentum'].append(top_etfs[etf]['symbol'])\n",
    "\n",
    "df = pd.DataFrame(convert_df)\n",
    "df"
   ]
  },
  {
   "cell_type": "code",
   "execution_count": null,
   "metadata": {},
   "outputs": [],
   "source": []
  }
 ],
 "metadata": {
  "kernelspec": {
   "display_name": "Python 3",
   "language": "python",
   "name": "python3"
  },
  "language_info": {
   "codemirror_mode": {
    "name": "ipython",
    "version": 3
   },
   "file_extension": ".py",
   "mimetype": "text/x-python",
   "name": "python",
   "nbconvert_exporter": "python",
   "pygments_lexer": "ipython3",
   "version": "3.8.5"
  },
  "toc": {
   "base_numbering": 1,
   "nav_menu": {},
   "number_sections": true,
   "sideBar": true,
   "skip_h1_title": true,
   "title_cell": "Table of Contents",
   "title_sidebar": "Contents",
   "toc_cell": false,
   "toc_position": {},
   "toc_section_display": true,
   "toc_window_display": true
  },
  "varInspector": {
   "cols": {
    "lenName": 16,
    "lenType": 16,
    "lenVar": 40
   },
   "kernels_config": {
    "python": {
     "delete_cmd_postfix": "",
     "delete_cmd_prefix": "del ",
     "library": "var_list.py",
     "varRefreshCmd": "print(var_dic_list())"
    },
    "r": {
     "delete_cmd_postfix": ") ",
     "delete_cmd_prefix": "rm(",
     "library": "var_list.r",
     "varRefreshCmd": "cat(var_dic_list()) "
    }
   },
   "types_to_exclude": [
    "module",
    "function",
    "builtin_function_or_method",
    "instance",
    "_Feature"
   ],
   "window_display": false
  }
 },
 "nbformat": 4,
 "nbformat_minor": 4
}
