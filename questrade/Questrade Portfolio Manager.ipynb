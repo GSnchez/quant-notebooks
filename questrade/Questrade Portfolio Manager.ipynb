{
 "cells": [
  {
   "cell_type": "markdown",
   "metadata": {},
   "source": [
    "# Questrade Portfolio Manager"
   ]
  },
  {
   "cell_type": "code",
   "execution_count": 1,
   "metadata": {},
   "outputs": [],
   "source": [
    "import os\n",
    "import numpy as np\n",
    "import pandas as pd\n",
    "import datetime as dt\n",
    "from qtrade import Questrade\n",
    "import matplotlib.pyplot as plt"
   ]
  },
  {
   "cell_type": "markdown",
   "metadata": {},
   "source": [
    "## Construct Monthly DateList"
   ]
  },
  {
   "cell_type": "code",
   "execution_count": 2,
   "metadata": {},
   "outputs": [],
   "source": [
    "startDate = '2018-04-01'\n",
    "endDate = dt.date.today().strftime(\"%Y-%m-%d\")\n",
    "dtrange = pd.date_range(startDate, endDate, freq='d')\n",
    "months = pd.Series(dtrange.month)\n",
    "starts, ends = months.ne(months.shift(1)), months.ne(months.shift(-1))\n",
    "startEndDates = pd.DataFrame({\n",
    "    'month_starting_date':\n",
    "    dtrange[starts].strftime('%Y-%m-%d'),\n",
    "    'month_ending_date':\n",
    "    dtrange[ends].strftime('%Y-%m-%d')\n",
    "})\n",
    "dateList = startEndDates.values.tolist()"
   ]
  },
  {
   "cell_type": "markdown",
   "metadata": {},
   "source": [
    "## Authentication to Questrade API"
   ]
  },
  {
   "cell_type": "code",
   "execution_count": 10,
   "metadata": {},
   "outputs": [],
   "source": [
    "try:\n",
    "    qtrade = Questrade(token_yaml='access_token.yml')\n",
    "except:\n",
    "    qtrade = Questrade(access_code='KUCGAbB-JbI8RsaRS_rXFqwabVXYOkrt0')"
   ]
  },
  {
   "cell_type": "code",
   "execution_count": 17,
   "metadata": {},
   "outputs": [
    {
     "data": {
      "text/plain": [
       "'KUCGAbB-JbI8RsaRS_rXFqwabVXYOkrt0'"
      ]
     },
     "execution_count": 17,
     "metadata": {},
     "output_type": "execute_result"
    }
   ],
   "source": [
    "pw = open(\"access_code.txt\", \"r\").read()"
   ]
  },
  {
   "cell_type": "code",
   "execution_count": 11,
   "metadata": {},
   "outputs": [],
   "source": [
    "\n",
    "#qtrade = Questrade(access_code='KUCGAbB-JbI8RsaRS_rXFqwabVXYOkrt0')\n",
    "# try:\n",
    "    \n",
    "# except:\n",
    "#     if os.path.exists('./access_token.yml'):\n",
    "#         try:\n",
    "            \n",
    "#         except:\n",
    "#             print(\"something wrong with refreshing the token\")\n",
    "#     print(\"please get the new token from Questrade website\")\n",
    "try:\n",
    "    acctId = qtrade.get_account_id()\n",
    "except:\n",
    "    qtrade.refresh_access_token(from_yaml=True)"
   ]
  },
  {
   "cell_type": "code",
   "execution_count": 13,
   "metadata": {},
   "outputs": [
    {
     "data": {
      "text/plain": [
       "['51802566']"
      ]
     },
     "execution_count": 13,
     "metadata": {},
     "output_type": "execute_result"
    }
   ],
   "source": [
    "qtrade.get_account_id()"
   ]
  },
  {
   "cell_type": "code",
   "execution_count": null,
   "metadata": {
    "code_folding": []
   },
   "outputs": [],
   "source": [
    "output = {}\n",
    "total_div = 0\n",
    "\n",
    "for date in dateList:\n",
    "    start = date[0]\n",
    "    end = date[1]\n",
    "    activities = qtrade.get_account_activities(acctId[0], start, end)\n",
    "    monthly_div = 0\n",
    "    for activity in activities:\n",
    "        if activity['type'] == 'Dividends':\n",
    "            monthly_div = monthly_div + activity['netAmount']\n",
    "    output[dt.datetime.strptime(start,\n",
    "                                \"%Y-%m-%d\").strftime(\"%Y-%m\")] = monthly_div\n",
    "    total_div = total_div + monthly_div\n",
    "    #print(f'from {start} to {end}, {monthly_div} was collected.')\n",
    "\n",
    "# output"
   ]
  },
  {
   "cell_type": "code",
   "execution_count": null,
   "metadata": {},
   "outputs": [],
   "source": [
    "final_df = pd.DataFrame.from_dict(output,\n",
    "                                  orient='index',\n",
    "                                  columns=['Monthly_Dividend_Income'])\n",
    "final_df"
   ]
  },
  {
   "cell_type": "markdown",
   "metadata": {},
   "source": [
    "## Dividend Income History with Bar Chart Visualization"
   ]
  },
  {
   "cell_type": "code",
   "execution_count": null,
   "metadata": {},
   "outputs": [],
   "source": [
    "final_df.plot(kind='bar',\n",
    "              title='Monthly Dividend Payments',\n",
    "              xlabel='Months',\n",
    "              ylabel='Dividend ($)',\n",
    "              figsize=(15, 10),\n",
    "              legend=False,\n",
    "              ylim=(0, 10))"
   ]
  },
  {
   "cell_type": "markdown",
   "metadata": {},
   "source": [
    "## Total Dividend Income"
   ]
  },
  {
   "cell_type": "code",
   "execution_count": null,
   "metadata": {},
   "outputs": [],
   "source": [
    "total_div"
   ]
  }
 ],
 "metadata": {
  "kernelspec": {
   "display_name": "Python 3",
   "language": "python",
   "name": "python3"
  },
  "language_info": {
   "codemirror_mode": {
    "name": "ipython",
    "version": 3
   },
   "file_extension": ".py",
   "mimetype": "text/x-python",
   "name": "python",
   "nbconvert_exporter": "python",
   "pygments_lexer": "ipython3",
   "version": "3.8.5"
  },
  "toc": {
   "base_numbering": 1,
   "nav_menu": {},
   "number_sections": true,
   "sideBar": true,
   "skip_h1_title": true,
   "title_cell": "Table of Contents",
   "title_sidebar": "Contents",
   "toc_cell": false,
   "toc_position": {},
   "toc_section_display": true,
   "toc_window_display": true
  },
  "varInspector": {
   "cols": {
    "lenName": 16,
    "lenType": 16,
    "lenVar": 40
   },
   "kernels_config": {
    "python": {
     "delete_cmd_postfix": "",
     "delete_cmd_prefix": "del ",
     "library": "var_list.py",
     "varRefreshCmd": "print(var_dic_list())"
    },
    "r": {
     "delete_cmd_postfix": ") ",
     "delete_cmd_prefix": "rm(",
     "library": "var_list.r",
     "varRefreshCmd": "cat(var_dic_list()) "
    }
   },
   "types_to_exclude": [
    "module",
    "function",
    "builtin_function_or_method",
    "instance",
    "_Feature"
   ],
   "window_display": false
  }
 },
 "nbformat": 4,
 "nbformat_minor": 4
}
